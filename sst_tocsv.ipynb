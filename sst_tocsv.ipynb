{
  "nbformat": 4,
  "nbformat_minor": 0,
  "metadata": {
    "colab": {
      "name": "sst_tocsv.ipynb",
      "provenance": [],
      "collapsed_sections": [],
      "toc_visible": true,
      "mount_file_id": "1f-KsRHXZBSUe4y0dR1IiyUV3B9f87nTJ",
      "authorship_tag": "ABX9TyP4TSbIziK80U6zKzN7ey2J",
      "include_colab_link": true
    },
    "kernelspec": {
      "name": "python3",
      "display_name": "Python 3"
    }
  },
  "cells": [
    {
      "cell_type": "markdown",
      "metadata": {
        "id": "view-in-github",
        "colab_type": "text"
      },
      "source": [
        "<a href=\"https://colab.research.google.com/github/amaslov455/nlp_project/blob/main/sst_tocsv.ipynb\" target=\"_parent\"><img src=\"https://colab.research.google.com/assets/colab-badge.svg\" alt=\"Open In Colab\"/></a>"
      ]
    },
    {
      "cell_type": "code",
      "metadata": {
        "colab": {
          "base_uri": "https://localhost:8080/"
        },
        "id": "i0ep8yEAJh0T",
        "outputId": "da9cd718-a23b-44a6-dc44-63166469d1f9"
      },
      "source": [
        "!pip install pytreebank"
      ],
      "execution_count": null,
      "outputs": [
        {
          "output_type": "stream",
          "text": [
            "Collecting pytreebank\n",
            "  Downloading https://files.pythonhosted.org/packages/e0/12/626ead6f6c0a0a9617396796b965961e9dfa5e78b36c17a81ea4c43554b1/pytreebank-0.2.7.tar.gz\n",
            "Building wheels for collected packages: pytreebank\n",
            "  Building wheel for pytreebank (setup.py) ... \u001b[?25l\u001b[?25hdone\n",
            "  Created wheel for pytreebank: filename=pytreebank-0.2.7-cp36-none-any.whl size=37070 sha256=c906c967661d52ae56c4512ff8cf6210abc591ecd1a98e2aecd964a9ab8ae827\n",
            "  Stored in directory: /root/.cache/pip/wheels/e0/b6/91/e9edcdbf464f623628d5c3aa9de28888c726e270b9a29f2368\n",
            "Successfully built pytreebank\n",
            "Installing collected packages: pytreebank\n",
            "Successfully installed pytreebank-0.2.7\n"
          ],
          "name": "stdout"
        }
      ]
    },
    {
      "cell_type": "code",
      "metadata": {
        "id": "ELj0aVhZJ8Rr"
      },
      "source": [
        "import pytreebank\n",
        "import pandas as pd"
      ],
      "execution_count": null,
      "outputs": []
    },
    {
      "cell_type": "code",
      "metadata": {
        "id": "so9ZaSiXKDJP"
      },
      "source": [
        "dataset = pytreebank.load_sst()"
      ],
      "execution_count": null,
      "outputs": []
    },
    {
      "cell_type": "code",
      "metadata": {
        "colab": {
          "base_uri": "https://localhost:8080/"
        },
        "id": "vLIpPh_tRPib",
        "outputId": "9b41c4f0-0a7a-4ecb-e780-758cbec02941"
      },
      "source": [
        "dataset.keys()"
      ],
      "execution_count": null,
      "outputs": [
        {
          "output_type": "execute_result",
          "data": {
            "text/plain": [
              "dict_keys(['train', 'test', 'dev'])"
            ]
          },
          "metadata": {
            "tags": []
          },
          "execution_count": 16
        }
      ]
    },
    {
      "cell_type": "code",
      "metadata": {
        "colab": {
          "base_uri": "https://localhost:8080/"
        },
        "id": "3X-JiRtwKGRU",
        "outputId": "f9707d8c-b46f-48b3-eff2-aa1dbbeb825e"
      },
      "source": [
        "dataset['train'][0]"
      ],
      "execution_count": null,
      "outputs": [
        {
          "output_type": "execute_result",
          "data": {
            "text/plain": [
              "<pytreebank.labeled_trees.LabeledTree at 0x7f8951752400>"
            ]
          },
          "metadata": {
            "tags": []
          },
          "execution_count": 8
        }
      ]
    },
    {
      "cell_type": "code",
      "metadata": {
        "id": "xgr-LiYtbYvW"
      },
      "source": [
        "def create_df_from_treebank(input_dataset):\n",
        "  dict_ = {}\n",
        "  dict_['sentence'] = []\n",
        "  dict_['santiment'] = []\n",
        "\n",
        "  list_santiments = [\"very_negative\", \"negative\", \"neutral\", \"positive\", \"very_positive\"]\n",
        "\n",
        "  for part in input_dataset:\n",
        "    label, sentence = part.to_labeled_lines()[0]\n",
        "\n",
        "    dict_['sentence'].append(sentence)\n",
        "    dict_['santiment'].append(list_santiments[label])\n",
        "\n",
        "  df = pd.DataFrame.from_dict(dict_)\n",
        "  return df"
      ],
      "execution_count": null,
      "outputs": []
    },
    {
      "cell_type": "code",
      "metadata": {
        "id": "9wXdtiH1Rqoa"
      },
      "source": [
        "df_train = create_df_from_treebank(dataset['train'])\n",
        "df_test = create_df_from_treebank(dataset['test'])"
      ],
      "execution_count": null,
      "outputs": []
    },
    {
      "cell_type": "code",
      "metadata": {
        "colab": {
          "base_uri": "https://localhost:8080/",
          "height": 407
        },
        "id": "PTxBWV_lSO9y",
        "outputId": "2344ecef-f864-4976-d57f-e7b54aa41f4d"
      },
      "source": [
        "df_train"
      ],
      "execution_count": null,
      "outputs": [
        {
          "output_type": "execute_result",
          "data": {
            "text/html": [
              "<div>\n",
              "<style scoped>\n",
              "    .dataframe tbody tr th:only-of-type {\n",
              "        vertical-align: middle;\n",
              "    }\n",
              "\n",
              "    .dataframe tbody tr th {\n",
              "        vertical-align: top;\n",
              "    }\n",
              "\n",
              "    .dataframe thead th {\n",
              "        text-align: right;\n",
              "    }\n",
              "</style>\n",
              "<table border=\"1\" class=\"dataframe\">\n",
              "  <thead>\n",
              "    <tr style=\"text-align: right;\">\n",
              "      <th></th>\n",
              "      <th>sentence</th>\n",
              "      <th>santiment</th>\n",
              "    </tr>\n",
              "  </thead>\n",
              "  <tbody>\n",
              "    <tr>\n",
              "      <th>0</th>\n",
              "      <td>The Rock is destined to be the 21st Century 's...</td>\n",
              "      <td>positive</td>\n",
              "    </tr>\n",
              "    <tr>\n",
              "      <th>1</th>\n",
              "      <td>The gorgeously elaborate continuation of `` Th...</td>\n",
              "      <td>very_positive</td>\n",
              "    </tr>\n",
              "    <tr>\n",
              "      <th>2</th>\n",
              "      <td>Singer/composer Bryan Adams contributes a slew...</td>\n",
              "      <td>positive</td>\n",
              "    </tr>\n",
              "    <tr>\n",
              "      <th>3</th>\n",
              "      <td>You 'd think by now America would have had eno...</td>\n",
              "      <td>neutral</td>\n",
              "    </tr>\n",
              "    <tr>\n",
              "      <th>4</th>\n",
              "      <td>Yet the act is still charming here .</td>\n",
              "      <td>positive</td>\n",
              "    </tr>\n",
              "    <tr>\n",
              "      <th>...</th>\n",
              "      <td>...</td>\n",
              "      <td>...</td>\n",
              "    </tr>\n",
              "    <tr>\n",
              "      <th>8539</th>\n",
              "      <td>A real snooze .</td>\n",
              "      <td>very_negative</td>\n",
              "    </tr>\n",
              "    <tr>\n",
              "      <th>8540</th>\n",
              "      <td>No surprises .</td>\n",
              "      <td>negative</td>\n",
              "    </tr>\n",
              "    <tr>\n",
              "      <th>8541</th>\n",
              "      <td>We 've seen the hippie-turned-yuppie plot befo...</td>\n",
              "      <td>positive</td>\n",
              "    </tr>\n",
              "    <tr>\n",
              "      <th>8542</th>\n",
              "      <td>Her fans walked out muttering words like `` ho...</td>\n",
              "      <td>very_negative</td>\n",
              "    </tr>\n",
              "    <tr>\n",
              "      <th>8543</th>\n",
              "      <td>In this case zero .</td>\n",
              "      <td>negative</td>\n",
              "    </tr>\n",
              "  </tbody>\n",
              "</table>\n",
              "<p>8544 rows × 2 columns</p>\n",
              "</div>"
            ],
            "text/plain": [
              "                                               sentence      santiment\n",
              "0     The Rock is destined to be the 21st Century 's...       positive\n",
              "1     The gorgeously elaborate continuation of `` Th...  very_positive\n",
              "2     Singer/composer Bryan Adams contributes a slew...       positive\n",
              "3     You 'd think by now America would have had eno...        neutral\n",
              "4                  Yet the act is still charming here .       positive\n",
              "...                                                 ...            ...\n",
              "8539                                    A real snooze .  very_negative\n",
              "8540                                     No surprises .       negative\n",
              "8541  We 've seen the hippie-turned-yuppie plot befo...       positive\n",
              "8542  Her fans walked out muttering words like `` ho...  very_negative\n",
              "8543                                In this case zero .       negative\n",
              "\n",
              "[8544 rows x 2 columns]"
            ]
          },
          "metadata": {
            "tags": []
          },
          "execution_count": 22
        }
      ]
    },
    {
      "cell_type": "code",
      "metadata": {
        "colab": {
          "base_uri": "https://localhost:8080/",
          "height": 407
        },
        "id": "ZMlSWux_SQgU",
        "outputId": "3402ee1e-b068-406c-c139-76227dc71f51"
      },
      "source": [
        "df_test"
      ],
      "execution_count": null,
      "outputs": [
        {
          "output_type": "execute_result",
          "data": {
            "text/html": [
              "<div>\n",
              "<style scoped>\n",
              "    .dataframe tbody tr th:only-of-type {\n",
              "        vertical-align: middle;\n",
              "    }\n",
              "\n",
              "    .dataframe tbody tr th {\n",
              "        vertical-align: top;\n",
              "    }\n",
              "\n",
              "    .dataframe thead th {\n",
              "        text-align: right;\n",
              "    }\n",
              "</style>\n",
              "<table border=\"1\" class=\"dataframe\">\n",
              "  <thead>\n",
              "    <tr style=\"text-align: right;\">\n",
              "      <th></th>\n",
              "      <th>sentence</th>\n",
              "      <th>santiment</th>\n",
              "    </tr>\n",
              "  </thead>\n",
              "  <tbody>\n",
              "    <tr>\n",
              "      <th>0</th>\n",
              "      <td>Effective but too-tepid biopic</td>\n",
              "      <td>neutral</td>\n",
              "    </tr>\n",
              "    <tr>\n",
              "      <th>1</th>\n",
              "      <td>If you sometimes like to go to the movies to h...</td>\n",
              "      <td>positive</td>\n",
              "    </tr>\n",
              "    <tr>\n",
              "      <th>2</th>\n",
              "      <td>Emerges as something rare , an issue movie tha...</td>\n",
              "      <td>very_positive</td>\n",
              "    </tr>\n",
              "    <tr>\n",
              "      <th>3</th>\n",
              "      <td>The film provides some great insight into the ...</td>\n",
              "      <td>neutral</td>\n",
              "    </tr>\n",
              "    <tr>\n",
              "      <th>4</th>\n",
              "      <td>Offers that rare combination of entertainment ...</td>\n",
              "      <td>very_positive</td>\n",
              "    </tr>\n",
              "    <tr>\n",
              "      <th>...</th>\n",
              "      <td>...</td>\n",
              "      <td>...</td>\n",
              "    </tr>\n",
              "    <tr>\n",
              "      <th>2205</th>\n",
              "      <td>An imaginative comedy/thriller .</td>\n",
              "      <td>positive</td>\n",
              "    </tr>\n",
              "    <tr>\n",
              "      <th>2206</th>\n",
              "      <td>( A ) rare , beautiful film .</td>\n",
              "      <td>very_positive</td>\n",
              "    </tr>\n",
              "    <tr>\n",
              "      <th>2207</th>\n",
              "      <td>( An ) hilarious romantic comedy .</td>\n",
              "      <td>very_positive</td>\n",
              "    </tr>\n",
              "    <tr>\n",
              "      <th>2208</th>\n",
              "      <td>Never ( sinks ) into exploitation .</td>\n",
              "      <td>positive</td>\n",
              "    </tr>\n",
              "    <tr>\n",
              "      <th>2209</th>\n",
              "      <td>( U ) nrelentingly stupid .</td>\n",
              "      <td>very_negative</td>\n",
              "    </tr>\n",
              "  </tbody>\n",
              "</table>\n",
              "<p>2210 rows × 2 columns</p>\n",
              "</div>"
            ],
            "text/plain": [
              "                                               sentence      santiment\n",
              "0                        Effective but too-tepid biopic        neutral\n",
              "1     If you sometimes like to go to the movies to h...       positive\n",
              "2     Emerges as something rare , an issue movie tha...  very_positive\n",
              "3     The film provides some great insight into the ...        neutral\n",
              "4     Offers that rare combination of entertainment ...  very_positive\n",
              "...                                                 ...            ...\n",
              "2205                   An imaginative comedy/thriller .       positive\n",
              "2206                      ( A ) rare , beautiful film .  very_positive\n",
              "2207                 ( An ) hilarious romantic comedy .  very_positive\n",
              "2208                Never ( sinks ) into exploitation .       positive\n",
              "2209                        ( U ) nrelentingly stupid .  very_negative\n",
              "\n",
              "[2210 rows x 2 columns]"
            ]
          },
          "metadata": {
            "tags": []
          },
          "execution_count": 23
        }
      ]
    },
    {
      "cell_type": "code",
      "metadata": {
        "id": "PEHroNUBSY8x"
      },
      "source": [
        "df_train.to_csv('/content/drive/MyDrive/diplom_project/train.csv', index = False)\n",
        "df_test.to_csv('/content/drive/MyDrive/diplom_project/test.csv', index = False)"
      ],
      "execution_count": null,
      "outputs": []
    },
    {
      "cell_type": "code",
      "metadata": {
        "id": "ptTWvRuFRKxv"
      },
      "source": [
        ""
      ],
      "execution_count": null,
      "outputs": []
    }
  ]
}