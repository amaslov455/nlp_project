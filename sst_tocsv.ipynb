{
  "nbformat": 4,
  "nbformat_minor": 0,
  "metadata": {
    "colab": {
      "name": "sst_tocsv.ipynb",
      "provenance": [],
      "collapsed_sections": [],
      "mount_file_id": "1f-KsRHXZBSUe4y0dR1IiyUV3B9f87nTJ",
      "authorship_tag": "ABX9TyNtfmZxCieFtNYIMR5Kk/1r",
      "include_colab_link": true
    },
    "kernelspec": {
      "name": "python3",
      "display_name": "Python 3"
    }
  },
  "cells": [
    {
      "cell_type": "markdown",
      "metadata": {
        "id": "view-in-github",
        "colab_type": "text"
      },
      "source": [
        "<a href=\"https://colab.research.google.com/github/amaslov455/nlp_project/blob/main/sst_tocsv.ipynb\" target=\"_parent\"><img src=\"https://colab.research.google.com/assets/colab-badge.svg\" alt=\"Open In Colab\"/></a>"
      ]
    },
    {
      "cell_type": "code",
      "metadata": {
        "colab": {
          "base_uri": "https://localhost:8080/"
        },
        "id": "i0ep8yEAJh0T",
        "outputId": "45118abf-9695-4634-eaf7-0d3f774be816"
      },
      "source": [
        "!pip install pytreebank"
      ],
      "execution_count": 1,
      "outputs": [
        {
          "output_type": "stream",
          "text": [
            "Collecting pytreebank\n",
            "  Downloading https://files.pythonhosted.org/packages/e0/12/626ead6f6c0a0a9617396796b965961e9dfa5e78b36c17a81ea4c43554b1/pytreebank-0.2.7.tar.gz\n",
            "Building wheels for collected packages: pytreebank\n",
            "  Building wheel for pytreebank (setup.py) ... \u001b[?25l\u001b[?25hdone\n",
            "  Created wheel for pytreebank: filename=pytreebank-0.2.7-cp36-none-any.whl size=37070 sha256=3494e67500ee6135798c2a68abc80f2e0995ea2004adccbf1ee5d06238669fa8\n",
            "  Stored in directory: /root/.cache/pip/wheels/e0/b6/91/e9edcdbf464f623628d5c3aa9de28888c726e270b9a29f2368\n",
            "Successfully built pytreebank\n",
            "Installing collected packages: pytreebank\n",
            "Successfully installed pytreebank-0.2.7\n"
          ],
          "name": "stdout"
        }
      ]
    },
    {
      "cell_type": "code",
      "metadata": {
        "id": "ELj0aVhZJ8Rr"
      },
      "source": [
        "import pytreebank\n",
        "import pandas as pd"
      ],
      "execution_count": 2,
      "outputs": []
    },
    {
      "cell_type": "code",
      "metadata": {
        "id": "so9ZaSiXKDJP"
      },
      "source": [
        "dataset = pytreebank.load_sst()"
      ],
      "execution_count": 3,
      "outputs": []
    },
    {
      "cell_type": "code",
      "metadata": {
        "colab": {
          "base_uri": "https://localhost:8080/"
        },
        "id": "vLIpPh_tRPib",
        "outputId": "1fb2118b-b6f2-418d-9a62-05349216da2a"
      },
      "source": [
        "dataset.keys()"
      ],
      "execution_count": 4,
      "outputs": [
        {
          "output_type": "execute_result",
          "data": {
            "text/plain": [
              "dict_keys(['train', 'test', 'dev'])"
            ]
          },
          "metadata": {
            "tags": []
          },
          "execution_count": 4
        }
      ]
    },
    {
      "cell_type": "code",
      "metadata": {
        "colab": {
          "base_uri": "https://localhost:8080/"
        },
        "id": "3X-JiRtwKGRU",
        "outputId": "1f9a9746-0523-4fc0-e254-c64ed42a0b88"
      },
      "source": [
        "dataset['train'][0]"
      ],
      "execution_count": 5,
      "outputs": [
        {
          "output_type": "execute_result",
          "data": {
            "text/plain": [
              "<pytreebank.labeled_trees.LabeledTree at 0x7fd4c7ac1a58>"
            ]
          },
          "metadata": {
            "tags": []
          },
          "execution_count": 5
        }
      ]
    },
    {
      "cell_type": "code",
      "metadata": {
        "id": "xgr-LiYtbYvW"
      },
      "source": [
        "def create_df_from_treebank(input_dataset):\n",
        "  dict_ = {}\n",
        "  dict_['sentence'] = []\n",
        "  dict_['santiment'] = []\n",
        "\n",
        "  list_santiments = [\"very_negative\", \"negative\", \"neutral\", \"positive\", \"very_positive\"]\n",
        "\n",
        "  for part in input_dataset:\n",
        "    label, sentence = part.to_labeled_lines()[0]\n",
        "\n",
        "    dict_['sentence'].append(sentence)\n",
        "    dict_['santiment'].append(list_santiments[label])\n",
        "\n",
        "  df = pd.DataFrame.from_dict(dict_)\n",
        "  return df"
      ],
      "execution_count": 6,
      "outputs": []
    },
    {
      "cell_type": "code",
      "metadata": {
        "id": "9wXdtiH1Rqoa"
      },
      "source": [
        "df_train = create_df_from_treebank(dataset['train'])\n",
        "df_test = create_df_from_treebank(dataset['test'])"
      ],
      "execution_count": 7,
      "outputs": []
    },
    {
      "cell_type": "code",
      "metadata": {
        "colab": {
          "base_uri": "https://localhost:8080/",
          "height": 407
        },
        "id": "PTxBWV_lSO9y",
        "outputId": "59926e4f-9fac-4882-cbe0-7a638241e6cd"
      },
      "source": [
        "df_train"
      ],
      "execution_count": 8,
      "outputs": [
        {
          "output_type": "execute_result",
          "data": {
            "text/html": [
              "<div>\n",
              "<style scoped>\n",
              "    .dataframe tbody tr th:only-of-type {\n",
              "        vertical-align: middle;\n",
              "    }\n",
              "\n",
              "    .dataframe tbody tr th {\n",
              "        vertical-align: top;\n",
              "    }\n",
              "\n",
              "    .dataframe thead th {\n",
              "        text-align: right;\n",
              "    }\n",
              "</style>\n",
              "<table border=\"1\" class=\"dataframe\">\n",
              "  <thead>\n",
              "    <tr style=\"text-align: right;\">\n",
              "      <th></th>\n",
              "      <th>sentence</th>\n",
              "      <th>santiment</th>\n",
              "    </tr>\n",
              "  </thead>\n",
              "  <tbody>\n",
              "    <tr>\n",
              "      <th>0</th>\n",
              "      <td>The Rock is destined to be the 21st Century 's...</td>\n",
              "      <td>positive</td>\n",
              "    </tr>\n",
              "    <tr>\n",
              "      <th>1</th>\n",
              "      <td>The gorgeously elaborate continuation of `` Th...</td>\n",
              "      <td>very_positive</td>\n",
              "    </tr>\n",
              "    <tr>\n",
              "      <th>2</th>\n",
              "      <td>Singer/composer Bryan Adams contributes a slew...</td>\n",
              "      <td>positive</td>\n",
              "    </tr>\n",
              "    <tr>\n",
              "      <th>3</th>\n",
              "      <td>You 'd think by now America would have had eno...</td>\n",
              "      <td>neutral</td>\n",
              "    </tr>\n",
              "    <tr>\n",
              "      <th>4</th>\n",
              "      <td>Yet the act is still charming here .</td>\n",
              "      <td>positive</td>\n",
              "    </tr>\n",
              "    <tr>\n",
              "      <th>...</th>\n",
              "      <td>...</td>\n",
              "      <td>...</td>\n",
              "    </tr>\n",
              "    <tr>\n",
              "      <th>8539</th>\n",
              "      <td>A real snooze .</td>\n",
              "      <td>very_negative</td>\n",
              "    </tr>\n",
              "    <tr>\n",
              "      <th>8540</th>\n",
              "      <td>No surprises .</td>\n",
              "      <td>negative</td>\n",
              "    </tr>\n",
              "    <tr>\n",
              "      <th>8541</th>\n",
              "      <td>We 've seen the hippie-turned-yuppie plot befo...</td>\n",
              "      <td>positive</td>\n",
              "    </tr>\n",
              "    <tr>\n",
              "      <th>8542</th>\n",
              "      <td>Her fans walked out muttering words like `` ho...</td>\n",
              "      <td>very_negative</td>\n",
              "    </tr>\n",
              "    <tr>\n",
              "      <th>8543</th>\n",
              "      <td>In this case zero .</td>\n",
              "      <td>negative</td>\n",
              "    </tr>\n",
              "  </tbody>\n",
              "</table>\n",
              "<p>8544 rows × 2 columns</p>\n",
              "</div>"
            ],
            "text/plain": [
              "                                               sentence      santiment\n",
              "0     The Rock is destined to be the 21st Century 's...       positive\n",
              "1     The gorgeously elaborate continuation of `` Th...  very_positive\n",
              "2     Singer/composer Bryan Adams contributes a slew...       positive\n",
              "3     You 'd think by now America would have had eno...        neutral\n",
              "4                  Yet the act is still charming here .       positive\n",
              "...                                                 ...            ...\n",
              "8539                                    A real snooze .  very_negative\n",
              "8540                                     No surprises .       negative\n",
              "8541  We 've seen the hippie-turned-yuppie plot befo...       positive\n",
              "8542  Her fans walked out muttering words like `` ho...  very_negative\n",
              "8543                                In this case zero .       negative\n",
              "\n",
              "[8544 rows x 2 columns]"
            ]
          },
          "metadata": {
            "tags": []
          },
          "execution_count": 8
        }
      ]
    },
    {
      "cell_type": "code",
      "metadata": {
        "id": "W3o_Qfy7M2ky"
      },
      "source": [
        "df_train.to_csv('/content/drive/MyDrive/diplom_project/train.csv', index = False)\n",
        "df_test.to_csv('/content/drive/MyDrive/diplom_project/test.csv', index = False)"
      ],
      "execution_count": null,
      "outputs": []
    },
    {
      "cell_type": "code",
      "metadata": {
        "id": "uaFOkgHR34EQ",
        "colab": {
          "base_uri": "https://localhost:8080/"
        },
        "outputId": "1e51e3ba-eebb-4af9-dd40-6cf05575d7a5"
      },
      "source": [
        "import nltk\n",
        "nltk.download('punkt')\n",
        "\n",
        "joined_sen = ' '.join(df_train['sentence'])\n",
        "\n",
        "tokens = nltk.word_tokenize(joined_sen)\n",
        "print('count of all tokens: ', len(tokens))\n",
        "\n",
        "unique_tokens = list(set(tokens))\n",
        "print('count of unique tokens: ', len(unique_tokens))"
      ],
      "execution_count": 9,
      "outputs": [
        {
          "output_type": "stream",
          "text": [
            "[nltk_data] Downloading package punkt to /root/nltk_data...\n",
            "[nltk_data]   Unzipping tokenizers/punkt.zip.\n",
            "count of all tokens:  163642\n",
            "count of unique tokens:  18270\n"
          ],
          "name": "stdout"
        }
      ]
    },
    {
      "cell_type": "code",
      "metadata": {
        "id": "ZMlSWux_SQgU"
      },
      "source": [
        "def write_sents_to_txt(list_of_sents, filename):\n",
        "    with open(filename, 'w',encoding='utf-8') as f:\n",
        "        for text in list_of_sents:\n",
        "            f.write(text + \"\\n\")"
      ],
      "execution_count": 10,
      "outputs": []
    },
    {
      "cell_type": "code",
      "metadata": {
        "id": "DaTWvzuZecPH"
      },
      "source": [
        "DIR_TXT_FILE = '/content/drive/MyDrive/diplom_project/train_sents1.txt'\n",
        "\n",
        "write_sents_to_txt(list(df_train.sentence.values), DIR_TXT_FILE)"
      ],
      "execution_count": 12,
      "outputs": []
    },
    {
      "cell_type": "code",
      "metadata": {
        "colab": {
          "base_uri": "https://localhost:8080/"
        },
        "id": "ZyoZCuxRf8nS",
        "outputId": "7843ffbe-d47e-4a81-cedf-b726cb622f56"
      },
      "source": [
        "!pip install sentencepiece\n",
        "import sentencepiece as spm\n",
        "\n",
        "spm.SentencePieceTrainer.train('--input={} --model_prefix=m --vocab_size=10000'.format(DIR_TXT_FILE))\n",
        "\n",
        "sp = spm.SentencePieceProcessor()\n",
        "sp.load('m.model')"
      ],
      "execution_count": 13,
      "outputs": [
        {
          "output_type": "stream",
          "text": [
            "Collecting sentencepiece\n",
            "\u001b[?25l  Downloading https://files.pythonhosted.org/packages/e5/2d/6d4ca4bef9a67070fa1cac508606328329152b1df10bdf31fb6e4e727894/sentencepiece-0.1.94-cp36-cp36m-manylinux2014_x86_64.whl (1.1MB)\n",
            "\r\u001b[K     |▎                               | 10kB 13.8MB/s eta 0:00:01\r\u001b[K     |▋                               | 20kB 14.0MB/s eta 0:00:01\r\u001b[K     |▉                               | 30kB 9.1MB/s eta 0:00:01\r\u001b[K     |█▏                              | 40kB 5.7MB/s eta 0:00:01\r\u001b[K     |█▌                              | 51kB 6.9MB/s eta 0:00:01\r\u001b[K     |█▊                              | 61kB 8.0MB/s eta 0:00:01\r\u001b[K     |██                              | 71kB 8.5MB/s eta 0:00:01\r\u001b[K     |██▍                             | 81kB 9.0MB/s eta 0:00:01\r\u001b[K     |██▋                             | 92kB 9.2MB/s eta 0:00:01\r\u001b[K     |███                             | 102kB 7.5MB/s eta 0:00:01\r\u001b[K     |███▎                            | 112kB 7.5MB/s eta 0:00:01\r\u001b[K     |███▌                            | 122kB 7.5MB/s eta 0:00:01\r\u001b[K     |███▉                            | 133kB 7.5MB/s eta 0:00:01\r\u001b[K     |████▏                           | 143kB 7.5MB/s eta 0:00:01\r\u001b[K     |████▍                           | 153kB 7.5MB/s eta 0:00:01\r\u001b[K     |████▊                           | 163kB 7.5MB/s eta 0:00:01\r\u001b[K     |█████                           | 174kB 7.5MB/s eta 0:00:01\r\u001b[K     |█████▎                          | 184kB 7.5MB/s eta 0:00:01\r\u001b[K     |█████▋                          | 194kB 7.5MB/s eta 0:00:01\r\u001b[K     |█████▉                          | 204kB 7.5MB/s eta 0:00:01\r\u001b[K     |██████▏                         | 215kB 7.5MB/s eta 0:00:01\r\u001b[K     |██████▌                         | 225kB 7.5MB/s eta 0:00:01\r\u001b[K     |██████▊                         | 235kB 7.5MB/s eta 0:00:01\r\u001b[K     |███████                         | 245kB 7.5MB/s eta 0:00:01\r\u001b[K     |███████▍                        | 256kB 7.5MB/s eta 0:00:01\r\u001b[K     |███████▋                        | 266kB 7.5MB/s eta 0:00:01\r\u001b[K     |████████                        | 276kB 7.5MB/s eta 0:00:01\r\u001b[K     |████████▎                       | 286kB 7.5MB/s eta 0:00:01\r\u001b[K     |████████▌                       | 296kB 7.5MB/s eta 0:00:01\r\u001b[K     |████████▉                       | 307kB 7.5MB/s eta 0:00:01\r\u001b[K     |█████████                       | 317kB 7.5MB/s eta 0:00:01\r\u001b[K     |█████████▍                      | 327kB 7.5MB/s eta 0:00:01\r\u001b[K     |█████████▊                      | 337kB 7.5MB/s eta 0:00:01\r\u001b[K     |██████████                      | 348kB 7.5MB/s eta 0:00:01\r\u001b[K     |██████████▎                     | 358kB 7.5MB/s eta 0:00:01\r\u001b[K     |██████████▋                     | 368kB 7.5MB/s eta 0:00:01\r\u001b[K     |██████████▉                     | 378kB 7.5MB/s eta 0:00:01\r\u001b[K     |███████████▏                    | 389kB 7.5MB/s eta 0:00:01\r\u001b[K     |███████████▌                    | 399kB 7.5MB/s eta 0:00:01\r\u001b[K     |███████████▊                    | 409kB 7.5MB/s eta 0:00:01\r\u001b[K     |████████████                    | 419kB 7.5MB/s eta 0:00:01\r\u001b[K     |████████████▍                   | 430kB 7.5MB/s eta 0:00:01\r\u001b[K     |████████████▋                   | 440kB 7.5MB/s eta 0:00:01\r\u001b[K     |█████████████                   | 450kB 7.5MB/s eta 0:00:01\r\u001b[K     |█████████████▎                  | 460kB 7.5MB/s eta 0:00:01\r\u001b[K     |█████████████▌                  | 471kB 7.5MB/s eta 0:00:01\r\u001b[K     |█████████████▉                  | 481kB 7.5MB/s eta 0:00:01\r\u001b[K     |██████████████                  | 491kB 7.5MB/s eta 0:00:01\r\u001b[K     |██████████████▍                 | 501kB 7.5MB/s eta 0:00:01\r\u001b[K     |██████████████▊                 | 512kB 7.5MB/s eta 0:00:01\r\u001b[K     |███████████████                 | 522kB 7.5MB/s eta 0:00:01\r\u001b[K     |███████████████▎                | 532kB 7.5MB/s eta 0:00:01\r\u001b[K     |███████████████▋                | 542kB 7.5MB/s eta 0:00:01\r\u001b[K     |███████████████▉                | 552kB 7.5MB/s eta 0:00:01\r\u001b[K     |████████████████▏               | 563kB 7.5MB/s eta 0:00:01\r\u001b[K     |████████████████▌               | 573kB 7.5MB/s eta 0:00:01\r\u001b[K     |████████████████▊               | 583kB 7.5MB/s eta 0:00:01\r\u001b[K     |█████████████████               | 593kB 7.5MB/s eta 0:00:01\r\u001b[K     |█████████████████▍              | 604kB 7.5MB/s eta 0:00:01\r\u001b[K     |█████████████████▋              | 614kB 7.5MB/s eta 0:00:01\r\u001b[K     |██████████████████              | 624kB 7.5MB/s eta 0:00:01\r\u001b[K     |██████████████████▏             | 634kB 7.5MB/s eta 0:00:01\r\u001b[K     |██████████████████▌             | 645kB 7.5MB/s eta 0:00:01\r\u001b[K     |██████████████████▉             | 655kB 7.5MB/s eta 0:00:01\r\u001b[K     |███████████████████             | 665kB 7.5MB/s eta 0:00:01\r\u001b[K     |███████████████████▍            | 675kB 7.5MB/s eta 0:00:01\r\u001b[K     |███████████████████▊            | 686kB 7.5MB/s eta 0:00:01\r\u001b[K     |████████████████████            | 696kB 7.5MB/s eta 0:00:01\r\u001b[K     |████████████████████▎           | 706kB 7.5MB/s eta 0:00:01\r\u001b[K     |████████████████████▋           | 716kB 7.5MB/s eta 0:00:01\r\u001b[K     |████████████████████▉           | 727kB 7.5MB/s eta 0:00:01\r\u001b[K     |█████████████████████▏          | 737kB 7.5MB/s eta 0:00:01\r\u001b[K     |█████████████████████▌          | 747kB 7.5MB/s eta 0:00:01\r\u001b[K     |█████████████████████▊          | 757kB 7.5MB/s eta 0:00:01\r\u001b[K     |██████████████████████          | 768kB 7.5MB/s eta 0:00:01\r\u001b[K     |██████████████████████▎         | 778kB 7.5MB/s eta 0:00:01\r\u001b[K     |██████████████████████▋         | 788kB 7.5MB/s eta 0:00:01\r\u001b[K     |███████████████████████         | 798kB 7.5MB/s eta 0:00:01\r\u001b[K     |███████████████████████▏        | 808kB 7.5MB/s eta 0:00:01\r\u001b[K     |███████████████████████▌        | 819kB 7.5MB/s eta 0:00:01\r\u001b[K     |███████████████████████▉        | 829kB 7.5MB/s eta 0:00:01\r\u001b[K     |████████████████████████        | 839kB 7.5MB/s eta 0:00:01\r\u001b[K     |████████████████████████▍       | 849kB 7.5MB/s eta 0:00:01\r\u001b[K     |████████████████████████▊       | 860kB 7.5MB/s eta 0:00:01\r\u001b[K     |█████████████████████████       | 870kB 7.5MB/s eta 0:00:01\r\u001b[K     |█████████████████████████▎      | 880kB 7.5MB/s eta 0:00:01\r\u001b[K     |█████████████████████████▋      | 890kB 7.5MB/s eta 0:00:01\r\u001b[K     |█████████████████████████▉      | 901kB 7.5MB/s eta 0:00:01\r\u001b[K     |██████████████████████████▏     | 911kB 7.5MB/s eta 0:00:01\r\u001b[K     |██████████████████████████▌     | 921kB 7.5MB/s eta 0:00:01\r\u001b[K     |██████████████████████████▊     | 931kB 7.5MB/s eta 0:00:01\r\u001b[K     |███████████████████████████     | 942kB 7.5MB/s eta 0:00:01\r\u001b[K     |███████████████████████████▎    | 952kB 7.5MB/s eta 0:00:01\r\u001b[K     |███████████████████████████▋    | 962kB 7.5MB/s eta 0:00:01\r\u001b[K     |████████████████████████████    | 972kB 7.5MB/s eta 0:00:01\r\u001b[K     |████████████████████████████▏   | 983kB 7.5MB/s eta 0:00:01\r\u001b[K     |████████████████████████████▌   | 993kB 7.5MB/s eta 0:00:01\r\u001b[K     |████████████████████████████▉   | 1.0MB 7.5MB/s eta 0:00:01\r\u001b[K     |█████████████████████████████   | 1.0MB 7.5MB/s eta 0:00:01\r\u001b[K     |█████████████████████████████▍  | 1.0MB 7.5MB/s eta 0:00:01\r\u001b[K     |█████████████████████████████▊  | 1.0MB 7.5MB/s eta 0:00:01\r\u001b[K     |██████████████████████████████  | 1.0MB 7.5MB/s eta 0:00:01\r\u001b[K     |██████████████████████████████▎ | 1.1MB 7.5MB/s eta 0:00:01\r\u001b[K     |██████████████████████████████▋ | 1.1MB 7.5MB/s eta 0:00:01\r\u001b[K     |██████████████████████████████▉ | 1.1MB 7.5MB/s eta 0:00:01\r\u001b[K     |███████████████████████████████▏| 1.1MB 7.5MB/s eta 0:00:01\r\u001b[K     |███████████████████████████████▍| 1.1MB 7.5MB/s eta 0:00:01\r\u001b[K     |███████████████████████████████▊| 1.1MB 7.5MB/s eta 0:00:01\r\u001b[K     |████████████████████████████████| 1.1MB 7.5MB/s \n",
            "\u001b[?25hInstalling collected packages: sentencepiece\n",
            "Successfully installed sentencepiece-0.1.94\n"
          ],
          "name": "stdout"
        },
        {
          "output_type": "execute_result",
          "data": {
            "text/plain": [
              "True"
            ]
          },
          "metadata": {
            "tags": []
          },
          "execution_count": 13
        }
      ]
    },
    {
      "cell_type": "code",
      "metadata": {
        "id": "cZyZRMsqKIHO"
      },
      "source": [
        "df_train['joined_nltk'] = df_train['sentence'].apply(lambda x: ' '.join(nltk.word_tokenize(x)))\n",
        "df_train['joined_sentencepiece'] = df_train['sentence'].apply(lambda x: ' '.join(sp.encode_as_pieces(x)))"
      ],
      "execution_count": 14,
      "outputs": []
    },
    {
      "cell_type": "code",
      "metadata": {
        "colab": {
          "base_uri": "https://localhost:8080/",
          "height": 407
        },
        "id": "aqCUzdPMMmjL",
        "outputId": "4736ca3f-3c3e-461c-fd56-23241aa5b02d"
      },
      "source": [
        "df_train"
      ],
      "execution_count": 15,
      "outputs": [
        {
          "output_type": "execute_result",
          "data": {
            "text/html": [
              "<div>\n",
              "<style scoped>\n",
              "    .dataframe tbody tr th:only-of-type {\n",
              "        vertical-align: middle;\n",
              "    }\n",
              "\n",
              "    .dataframe tbody tr th {\n",
              "        vertical-align: top;\n",
              "    }\n",
              "\n",
              "    .dataframe thead th {\n",
              "        text-align: right;\n",
              "    }\n",
              "</style>\n",
              "<table border=\"1\" class=\"dataframe\">\n",
              "  <thead>\n",
              "    <tr style=\"text-align: right;\">\n",
              "      <th></th>\n",
              "      <th>sentence</th>\n",
              "      <th>santiment</th>\n",
              "      <th>joined_nltk</th>\n",
              "      <th>joined_sentencepiece</th>\n",
              "    </tr>\n",
              "  </thead>\n",
              "  <tbody>\n",
              "    <tr>\n",
              "      <th>0</th>\n",
              "      <td>The Rock is destined to be the 21st Century 's...</td>\n",
              "      <td>positive</td>\n",
              "      <td>The Rock is destined to be the 21st Century 's...</td>\n",
              "      <td>▁The ▁Rock ▁is ▁destin ed ▁to ▁be ▁the ▁21 s t...</td>\n",
              "    </tr>\n",
              "    <tr>\n",
              "      <th>1</th>\n",
              "      <td>The gorgeously elaborate continuation of `` Th...</td>\n",
              "      <td>very_positive</td>\n",
              "      <td>The gorgeously elaborate continuation of `` Th...</td>\n",
              "      <td>▁The ▁gorgeous ly ▁ e laborat e ▁continu ation...</td>\n",
              "    </tr>\n",
              "    <tr>\n",
              "      <th>2</th>\n",
              "      <td>Singer/composer Bryan Adams contributes a slew...</td>\n",
              "      <td>positive</td>\n",
              "      <td>Singer/composer Bryan Adams contributes a slew...</td>\n",
              "      <td>▁S ing er / compos er ▁Br yan ▁Adam s ▁contrib...</td>\n",
              "    </tr>\n",
              "    <tr>\n",
              "      <th>3</th>\n",
              "      <td>You 'd think by now America would have had eno...</td>\n",
              "      <td>neutral</td>\n",
              "      <td>You 'd think by now America would have had eno...</td>\n",
              "      <td>▁You ▁' d ▁think ▁by ▁now ▁America ▁would ▁ ha...</td>\n",
              "    </tr>\n",
              "    <tr>\n",
              "      <th>4</th>\n",
              "      <td>Yet the act is still charming here .</td>\n",
              "      <td>positive</td>\n",
              "      <td>Yet the act is still charming here .</td>\n",
              "      <td>▁Ye t ▁the ▁act ▁is ▁still ▁charm ing ▁here ▁.</td>\n",
              "    </tr>\n",
              "    <tr>\n",
              "      <th>...</th>\n",
              "      <td>...</td>\n",
              "      <td>...</td>\n",
              "      <td>...</td>\n",
              "      <td>...</td>\n",
              "    </tr>\n",
              "    <tr>\n",
              "      <th>8539</th>\n",
              "      <td>A real snooze .</td>\n",
              "      <td>very_negative</td>\n",
              "      <td>A real snooze .</td>\n",
              "      <td>▁A ▁real ▁snooze ▁.</td>\n",
              "    </tr>\n",
              "    <tr>\n",
              "      <th>8540</th>\n",
              "      <td>No surprises .</td>\n",
              "      <td>negative</td>\n",
              "      <td>No surprises .</td>\n",
              "      <td>▁No ▁surprise s ▁.</td>\n",
              "    </tr>\n",
              "    <tr>\n",
              "      <th>8541</th>\n",
              "      <td>We 've seen the hippie-turned-yuppie plot befo...</td>\n",
              "      <td>positive</td>\n",
              "      <td>We 've seen the hippie-turned-yuppie plot befo...</td>\n",
              "      <td>▁We ▁' ve ▁see n ▁the ▁hippie - turned - y upp...</td>\n",
              "    </tr>\n",
              "    <tr>\n",
              "      <th>8542</th>\n",
              "      <td>Her fans walked out muttering words like `` ho...</td>\n",
              "      <td>very_negative</td>\n",
              "      <td>Her fans walked out muttering words like `` ho...</td>\n",
              "      <td>▁Her ▁fan s ▁walk ed ▁out ▁mut tering ▁word s ...</td>\n",
              "    </tr>\n",
              "    <tr>\n",
              "      <th>8543</th>\n",
              "      <td>In this case zero .</td>\n",
              "      <td>negative</td>\n",
              "      <td>In this case zero .</td>\n",
              "      <td>▁In ▁thi s ▁case ▁zero ▁.</td>\n",
              "    </tr>\n",
              "  </tbody>\n",
              "</table>\n",
              "<p>8544 rows × 4 columns</p>\n",
              "</div>"
            ],
            "text/plain": [
              "                                               sentence  ...                               joined_sentencepiece\n",
              "0     The Rock is destined to be the 21st Century 's...  ...  ▁The ▁Rock ▁is ▁destin ed ▁to ▁be ▁the ▁21 s t...\n",
              "1     The gorgeously elaborate continuation of `` Th...  ...  ▁The ▁gorgeous ly ▁ e laborat e ▁continu ation...\n",
              "2     Singer/composer Bryan Adams contributes a slew...  ...  ▁S ing er / compos er ▁Br yan ▁Adam s ▁contrib...\n",
              "3     You 'd think by now America would have had eno...  ...  ▁You ▁' d ▁think ▁by ▁now ▁America ▁would ▁ ha...\n",
              "4                  Yet the act is still charming here .  ...     ▁Ye t ▁the ▁act ▁is ▁still ▁charm ing ▁here ▁.\n",
              "...                                                 ...  ...                                                ...\n",
              "8539                                    A real snooze .  ...                                ▁A ▁real ▁snooze ▁.\n",
              "8540                                     No surprises .  ...                                 ▁No ▁surprise s ▁.\n",
              "8541  We 've seen the hippie-turned-yuppie plot befo...  ...  ▁We ▁' ve ▁see n ▁the ▁hippie - turned - y upp...\n",
              "8542  Her fans walked out muttering words like `` ho...  ...  ▁Her ▁fan s ▁walk ed ▁out ▁mut tering ▁word s ...\n",
              "8543                                In this case zero .  ...                          ▁In ▁thi s ▁case ▁zero ▁.\n",
              "\n",
              "[8544 rows x 4 columns]"
            ]
          },
          "metadata": {
            "tags": []
          },
          "execution_count": 15
        }
      ]
    },
    {
      "cell_type": "code",
      "metadata": {
        "id": "d_SB_xiCfk0X"
      },
      "source": [
        ""
      ],
      "execution_count": null,
      "outputs": []
    }
  ]
}