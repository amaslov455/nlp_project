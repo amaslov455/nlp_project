{
  "nbformat": 4,
  "nbformat_minor": 0,
  "metadata": {
    "colab": {
      "name": "sst_tocsv.ipynb",
      "provenance": [],
      "collapsed_sections": [],
      "mount_file_id": "1f-KsRHXZBSUe4y0dR1IiyUV3B9f87nTJ",
      "authorship_tag": "ABX9TyM91bRkiL4bsnvovMABTfae",
      "include_colab_link": true
    },
    "kernelspec": {
      "name": "python3",
      "display_name": "Python 3"
    }
  },
  "cells": [
    {
      "cell_type": "markdown",
      "metadata": {
        "id": "view-in-github",
        "colab_type": "text"
      },
      "source": [
        "<a href=\"https://colab.research.google.com/github/amaslov455/nlp_project/blob/main/sst_tocsv.ipynb\" target=\"_parent\"><img src=\"https://colab.research.google.com/assets/colab-badge.svg\" alt=\"Open In Colab\"/></a>"
      ]
    },
    {
      "cell_type": "code",
      "metadata": {
        "colab": {
          "base_uri": "https://localhost:8080/"
        },
        "id": "i0ep8yEAJh0T",
        "outputId": "6b785cc9-afb7-43f4-da7a-c94e92fc08d2"
      },
      "source": [
        "!pip install pytreebank"
      ],
      "execution_count": 1,
      "outputs": [
        {
          "output_type": "stream",
          "text": [
            "Collecting pytreebank\n",
            "  Downloading https://files.pythonhosted.org/packages/e0/12/626ead6f6c0a0a9617396796b965961e9dfa5e78b36c17a81ea4c43554b1/pytreebank-0.2.7.tar.gz\n",
            "Building wheels for collected packages: pytreebank\n",
            "  Building wheel for pytreebank (setup.py) ... \u001b[?25l\u001b[?25hdone\n",
            "  Created wheel for pytreebank: filename=pytreebank-0.2.7-cp36-none-any.whl size=37070 sha256=d2fdc664dec0b57a4957c1ea76f40a9827920040881e9d00ae82deb7777219b4\n",
            "  Stored in directory: /root/.cache/pip/wheels/e0/b6/91/e9edcdbf464f623628d5c3aa9de28888c726e270b9a29f2368\n",
            "Successfully built pytreebank\n",
            "Installing collected packages: pytreebank\n",
            "Successfully installed pytreebank-0.2.7\n"
          ],
          "name": "stdout"
        }
      ]
    },
    {
      "cell_type": "code",
      "metadata": {
        "id": "ELj0aVhZJ8Rr"
      },
      "source": [
        "import pytreebank\n",
        "import pandas as pd"
      ],
      "execution_count": 2,
      "outputs": []
    },
    {
      "cell_type": "code",
      "metadata": {
        "id": "so9ZaSiXKDJP"
      },
      "source": [
        "dataset = pytreebank.load_sst()"
      ],
      "execution_count": 3,
      "outputs": []
    },
    {
      "cell_type": "code",
      "metadata": {
        "colab": {
          "base_uri": "https://localhost:8080/"
        },
        "id": "vLIpPh_tRPib",
        "outputId": "5ff89ac5-2812-491c-c43a-c999ff39589f"
      },
      "source": [
        "dataset.keys()"
      ],
      "execution_count": 4,
      "outputs": [
        {
          "output_type": "execute_result",
          "data": {
            "text/plain": [
              "dict_keys(['train', 'test', 'dev'])"
            ]
          },
          "metadata": {
            "tags": []
          },
          "execution_count": 4
        }
      ]
    },
    {
      "cell_type": "code",
      "metadata": {
        "colab": {
          "base_uri": "https://localhost:8080/"
        },
        "id": "3X-JiRtwKGRU",
        "outputId": "046a0e39-abb5-4f76-d72c-3331bd6e4cd5"
      },
      "source": [
        "dataset['train'][0]"
      ],
      "execution_count": 5,
      "outputs": [
        {
          "output_type": "execute_result",
          "data": {
            "text/plain": [
              "<pytreebank.labeled_trees.LabeledTree at 0x7f4c5545aac8>"
            ]
          },
          "metadata": {
            "tags": []
          },
          "execution_count": 5
        }
      ]
    },
    {
      "cell_type": "code",
      "metadata": {
        "id": "xgr-LiYtbYvW"
      },
      "source": [
        "def create_df_from_treebank(input_dataset):\n",
        "  dict_ = {}\n",
        "  dict_['sentence'] = []\n",
        "  dict_['santiment'] = []\n",
        "\n",
        "  list_santiments = [\"very_negative\", \"negative\", \"neutral\", \"positive\", \"very_positive\"]\n",
        "\n",
        "  for part in input_dataset:\n",
        "    label, sentence = part.to_labeled_lines()[0]\n",
        "\n",
        "    dict_['sentence'].append(sentence)\n",
        "    dict_['santiment'].append(list_santiments[label])\n",
        "\n",
        "  df = pd.DataFrame.from_dict(dict_)\n",
        "  return df"
      ],
      "execution_count": 6,
      "outputs": []
    },
    {
      "cell_type": "code",
      "metadata": {
        "id": "9wXdtiH1Rqoa"
      },
      "source": [
        "df_train = create_df_from_treebank(dataset['train'])\n",
        "df_test = create_df_from_treebank(dataset['test'])"
      ],
      "execution_count": 7,
      "outputs": []
    },
    {
      "cell_type": "code",
      "metadata": {
        "colab": {
          "base_uri": "https://localhost:8080/",
          "height": 407
        },
        "id": "PTxBWV_lSO9y",
        "outputId": "542de0ec-50cc-412d-8391-5114d9909b51"
      },
      "source": [
        "df_train"
      ],
      "execution_count": 8,
      "outputs": [
        {
          "output_type": "execute_result",
          "data": {
            "text/html": [
              "<div>\n",
              "<style scoped>\n",
              "    .dataframe tbody tr th:only-of-type {\n",
              "        vertical-align: middle;\n",
              "    }\n",
              "\n",
              "    .dataframe tbody tr th {\n",
              "        vertical-align: top;\n",
              "    }\n",
              "\n",
              "    .dataframe thead th {\n",
              "        text-align: right;\n",
              "    }\n",
              "</style>\n",
              "<table border=\"1\" class=\"dataframe\">\n",
              "  <thead>\n",
              "    <tr style=\"text-align: right;\">\n",
              "      <th></th>\n",
              "      <th>sentence</th>\n",
              "      <th>santiment</th>\n",
              "    </tr>\n",
              "  </thead>\n",
              "  <tbody>\n",
              "    <tr>\n",
              "      <th>0</th>\n",
              "      <td>The Rock is destined to be the 21st Century 's...</td>\n",
              "      <td>positive</td>\n",
              "    </tr>\n",
              "    <tr>\n",
              "      <th>1</th>\n",
              "      <td>The gorgeously elaborate continuation of `` Th...</td>\n",
              "      <td>very_positive</td>\n",
              "    </tr>\n",
              "    <tr>\n",
              "      <th>2</th>\n",
              "      <td>Singer/composer Bryan Adams contributes a slew...</td>\n",
              "      <td>positive</td>\n",
              "    </tr>\n",
              "    <tr>\n",
              "      <th>3</th>\n",
              "      <td>You 'd think by now America would have had eno...</td>\n",
              "      <td>neutral</td>\n",
              "    </tr>\n",
              "    <tr>\n",
              "      <th>4</th>\n",
              "      <td>Yet the act is still charming here .</td>\n",
              "      <td>positive</td>\n",
              "    </tr>\n",
              "    <tr>\n",
              "      <th>...</th>\n",
              "      <td>...</td>\n",
              "      <td>...</td>\n",
              "    </tr>\n",
              "    <tr>\n",
              "      <th>8539</th>\n",
              "      <td>A real snooze .</td>\n",
              "      <td>very_negative</td>\n",
              "    </tr>\n",
              "    <tr>\n",
              "      <th>8540</th>\n",
              "      <td>No surprises .</td>\n",
              "      <td>negative</td>\n",
              "    </tr>\n",
              "    <tr>\n",
              "      <th>8541</th>\n",
              "      <td>We 've seen the hippie-turned-yuppie plot befo...</td>\n",
              "      <td>positive</td>\n",
              "    </tr>\n",
              "    <tr>\n",
              "      <th>8542</th>\n",
              "      <td>Her fans walked out muttering words like `` ho...</td>\n",
              "      <td>very_negative</td>\n",
              "    </tr>\n",
              "    <tr>\n",
              "      <th>8543</th>\n",
              "      <td>In this case zero .</td>\n",
              "      <td>negative</td>\n",
              "    </tr>\n",
              "  </tbody>\n",
              "</table>\n",
              "<p>8544 rows × 2 columns</p>\n",
              "</div>"
            ],
            "text/plain": [
              "                                               sentence      santiment\n",
              "0     The Rock is destined to be the 21st Century 's...       positive\n",
              "1     The gorgeously elaborate continuation of `` Th...  very_positive\n",
              "2     Singer/composer Bryan Adams contributes a slew...       positive\n",
              "3     You 'd think by now America would have had eno...        neutral\n",
              "4                  Yet the act is still charming here .       positive\n",
              "...                                                 ...            ...\n",
              "8539                                    A real snooze .  very_negative\n",
              "8540                                     No surprises .       negative\n",
              "8541  We 've seen the hippie-turned-yuppie plot befo...       positive\n",
              "8542  Her fans walked out muttering words like `` ho...  very_negative\n",
              "8543                                In this case zero .       negative\n",
              "\n",
              "[8544 rows x 2 columns]"
            ]
          },
          "metadata": {
            "tags": []
          },
          "execution_count": 8
        }
      ]
    },
    {
      "cell_type": "code",
      "metadata": {
        "id": "W3o_Qfy7M2ky"
      },
      "source": [
        "df_train.to_csv('/content/drive/MyDrive/diplom_project/train.csv', index = False)\n",
        "df_test.to_csv('/content/drive/MyDrive/diplom_project/test.csv', index = False)"
      ],
      "execution_count": null,
      "outputs": []
    },
    {
      "cell_type": "code",
      "metadata": {
        "id": "uaFOkgHR34EQ",
        "colab": {
          "base_uri": "https://localhost:8080/"
        },
        "outputId": "b7f8f340-ba5a-4b2e-c96f-fc59b54aaac2"
      },
      "source": [
        "import nltk\n",
        "nltk.download('punkt')\n",
        "\n",
        "joined_sen = ' '.join(df_train['sentence'])\n",
        "\n",
        "tokens = nltk.word_tokenize(joined_sen)\n",
        "print('count of all tokens: ', len(tokens))\n",
        "\n",
        "unique_tokens = list(set(tokens))\n",
        "print('count of unique tokens: ', len(unique_tokens))"
      ],
      "execution_count": 9,
      "outputs": [
        {
          "output_type": "stream",
          "text": [
            "[nltk_data] Downloading package punkt to /root/nltk_data...\n",
            "[nltk_data]   Unzipping tokenizers/punkt.zip.\n",
            "count of all tokens:  163642\n",
            "count of unique tokens:  18270\n"
          ],
          "name": "stdout"
        }
      ]
    },
    {
      "cell_type": "code",
      "metadata": {
        "id": "ZMlSWux_SQgU"
      },
      "source": [
        "def write_sents_to_txt(list_of_sents, filename):\n",
        "    with open(filename, 'w',encoding='utf-8') as f:\n",
        "        for text in list_of_sents:\n",
        "            f.write(text + \"\\n\")"
      ],
      "execution_count": 10,
      "outputs": []
    },
    {
      "cell_type": "code",
      "metadata": {
        "id": "DaTWvzuZecPH"
      },
      "source": [
        "DIR_TXT_FILE = '/content/drive/MyDrive/diplom_project/train_sents1.txt'\n",
        "\n",
        "write_sents_to_txt(list(df_train.sentence.values), DIR_TXT_FILE)"
      ],
      "execution_count": 11,
      "outputs": []
    },
    {
      "cell_type": "code",
      "metadata": {
        "colab": {
          "base_uri": "https://localhost:8080/"
        },
        "id": "ZyoZCuxRf8nS",
        "outputId": "265ab2a8-fe1d-4b0b-8ff1-c57edbf4fbaf"
      },
      "source": [
        "!pip install sentencepiece\n",
        "import sentencepiece as spm\n",
        "\n",
        "vocab_size_totrain = 10000\n",
        "spm.SentencePieceTrainer.train('--input={} --model_prefix=m --vocab_size={}'.format(DIR_TXT_FILE, vocab_size_totrain))\n",
        "\n",
        "sp = spm.SentencePieceProcessor()\n",
        "sp.load('m.model')"
      ],
      "execution_count": 15,
      "outputs": [
        {
          "output_type": "stream",
          "text": [
            "Collecting sentencepiece\n",
            "\u001b[?25l  Downloading https://files.pythonhosted.org/packages/e5/2d/6d4ca4bef9a67070fa1cac508606328329152b1df10bdf31fb6e4e727894/sentencepiece-0.1.94-cp36-cp36m-manylinux2014_x86_64.whl (1.1MB)\n",
            "\u001b[K     |████████████████████████████████| 1.1MB 5.4MB/s \n",
            "\u001b[?25hInstalling collected packages: sentencepiece\n",
            "Successfully installed sentencepiece-0.1.94\n"
          ],
          "name": "stdout"
        }
      ]
    },
    {
      "cell_type": "code",
      "metadata": {
        "id": "cZyZRMsqKIHO"
      },
      "source": [
        "df_train['joined_nltk'] = df_train['sentence'].apply(lambda x: ' '.join(nltk.word_tokenize(x)))\n",
        "df_train['joined_sentencepiece'] = df_train['sentence'].apply(lambda x: ' '.join(sp.encode_as_pieces(x)))"
      ],
      "execution_count": null,
      "outputs": []
    },
    {
      "cell_type": "code",
      "metadata": {
        "colab": {
          "base_uri": "https://localhost:8080/",
          "height": 407
        },
        "id": "aqCUzdPMMmjL",
        "outputId": "4736ca3f-3c3e-461c-fd56-23241aa5b02d"
      },
      "source": [
        "df_train"
      ],
      "execution_count": null,
      "outputs": [
        {
          "output_type": "execute_result",
          "data": {
            "text/html": [
              "<div>\n",
              "<style scoped>\n",
              "    .dataframe tbody tr th:only-of-type {\n",
              "        vertical-align: middle;\n",
              "    }\n",
              "\n",
              "    .dataframe tbody tr th {\n",
              "        vertical-align: top;\n",
              "    }\n",
              "\n",
              "    .dataframe thead th {\n",
              "        text-align: right;\n",
              "    }\n",
              "</style>\n",
              "<table border=\"1\" class=\"dataframe\">\n",
              "  <thead>\n",
              "    <tr style=\"text-align: right;\">\n",
              "      <th></th>\n",
              "      <th>sentence</th>\n",
              "      <th>santiment</th>\n",
              "      <th>joined_nltk</th>\n",
              "      <th>joined_sentencepiece</th>\n",
              "    </tr>\n",
              "  </thead>\n",
              "  <tbody>\n",
              "    <tr>\n",
              "      <th>0</th>\n",
              "      <td>The Rock is destined to be the 21st Century 's...</td>\n",
              "      <td>positive</td>\n",
              "      <td>The Rock is destined to be the 21st Century 's...</td>\n",
              "      <td>▁The ▁Rock ▁is ▁destin ed ▁to ▁be ▁the ▁21 s t...</td>\n",
              "    </tr>\n",
              "    <tr>\n",
              "      <th>1</th>\n",
              "      <td>The gorgeously elaborate continuation of `` Th...</td>\n",
              "      <td>very_positive</td>\n",
              "      <td>The gorgeously elaborate continuation of `` Th...</td>\n",
              "      <td>▁The ▁gorgeous ly ▁ e laborat e ▁continu ation...</td>\n",
              "    </tr>\n",
              "    <tr>\n",
              "      <th>2</th>\n",
              "      <td>Singer/composer Bryan Adams contributes a slew...</td>\n",
              "      <td>positive</td>\n",
              "      <td>Singer/composer Bryan Adams contributes a slew...</td>\n",
              "      <td>▁S ing er / compos er ▁Br yan ▁Adam s ▁contrib...</td>\n",
              "    </tr>\n",
              "    <tr>\n",
              "      <th>3</th>\n",
              "      <td>You 'd think by now America would have had eno...</td>\n",
              "      <td>neutral</td>\n",
              "      <td>You 'd think by now America would have had eno...</td>\n",
              "      <td>▁You ▁' d ▁think ▁by ▁now ▁America ▁would ▁ ha...</td>\n",
              "    </tr>\n",
              "    <tr>\n",
              "      <th>4</th>\n",
              "      <td>Yet the act is still charming here .</td>\n",
              "      <td>positive</td>\n",
              "      <td>Yet the act is still charming here .</td>\n",
              "      <td>▁Ye t ▁the ▁act ▁is ▁still ▁charm ing ▁here ▁.</td>\n",
              "    </tr>\n",
              "    <tr>\n",
              "      <th>...</th>\n",
              "      <td>...</td>\n",
              "      <td>...</td>\n",
              "      <td>...</td>\n",
              "      <td>...</td>\n",
              "    </tr>\n",
              "    <tr>\n",
              "      <th>8539</th>\n",
              "      <td>A real snooze .</td>\n",
              "      <td>very_negative</td>\n",
              "      <td>A real snooze .</td>\n",
              "      <td>▁A ▁real ▁snooze ▁.</td>\n",
              "    </tr>\n",
              "    <tr>\n",
              "      <th>8540</th>\n",
              "      <td>No surprises .</td>\n",
              "      <td>negative</td>\n",
              "      <td>No surprises .</td>\n",
              "      <td>▁No ▁surprise s ▁.</td>\n",
              "    </tr>\n",
              "    <tr>\n",
              "      <th>8541</th>\n",
              "      <td>We 've seen the hippie-turned-yuppie plot befo...</td>\n",
              "      <td>positive</td>\n",
              "      <td>We 've seen the hippie-turned-yuppie plot befo...</td>\n",
              "      <td>▁We ▁' ve ▁see n ▁the ▁hippie - turned - y upp...</td>\n",
              "    </tr>\n",
              "    <tr>\n",
              "      <th>8542</th>\n",
              "      <td>Her fans walked out muttering words like `` ho...</td>\n",
              "      <td>very_negative</td>\n",
              "      <td>Her fans walked out muttering words like `` ho...</td>\n",
              "      <td>▁Her ▁fan s ▁walk ed ▁out ▁mut tering ▁word s ...</td>\n",
              "    </tr>\n",
              "    <tr>\n",
              "      <th>8543</th>\n",
              "      <td>In this case zero .</td>\n",
              "      <td>negative</td>\n",
              "      <td>In this case zero .</td>\n",
              "      <td>▁In ▁thi s ▁case ▁zero ▁.</td>\n",
              "    </tr>\n",
              "  </tbody>\n",
              "</table>\n",
              "<p>8544 rows × 4 columns</p>\n",
              "</div>"
            ],
            "text/plain": [
              "                                               sentence  ...                               joined_sentencepiece\n",
              "0     The Rock is destined to be the 21st Century 's...  ...  ▁The ▁Rock ▁is ▁destin ed ▁to ▁be ▁the ▁21 s t...\n",
              "1     The gorgeously elaborate continuation of `` Th...  ...  ▁The ▁gorgeous ly ▁ e laborat e ▁continu ation...\n",
              "2     Singer/composer Bryan Adams contributes a slew...  ...  ▁S ing er / compos er ▁Br yan ▁Adam s ▁contrib...\n",
              "3     You 'd think by now America would have had eno...  ...  ▁You ▁' d ▁think ▁by ▁now ▁America ▁would ▁ ha...\n",
              "4                  Yet the act is still charming here .  ...     ▁Ye t ▁the ▁act ▁is ▁still ▁charm ing ▁here ▁.\n",
              "...                                                 ...  ...                                                ...\n",
              "8539                                    A real snooze .  ...                                ▁A ▁real ▁snooze ▁.\n",
              "8540                                     No surprises .  ...                                 ▁No ▁surprise s ▁.\n",
              "8541  We 've seen the hippie-turned-yuppie plot befo...  ...  ▁We ▁' ve ▁see n ▁the ▁hippie - turned - y upp...\n",
              "8542  Her fans walked out muttering words like `` ho...  ...  ▁Her ▁fan s ▁walk ed ▁out ▁mut tering ▁word s ...\n",
              "8543                                In this case zero .  ...                          ▁In ▁thi s ▁case ▁zero ▁.\n",
              "\n",
              "[8544 rows x 4 columns]"
            ]
          },
          "metadata": {
            "tags": []
          },
          "execution_count": 15
        }
      ]
    },
    {
      "cell_type": "code",
      "metadata": {
        "id": "d_SB_xiCfk0X"
      },
      "source": [
        "df_train_2 = df_train[['sentence','santiment']].copy()"
      ],
      "execution_count": 19,
      "outputs": []
    },
    {
      "cell_type": "code",
      "metadata": {
        "colab": {
          "base_uri": "https://localhost:8080/"
        },
        "id": "w7gpMWQzIMV1",
        "outputId": "3968fcd5-aa23-4ed6-9bad-6497066c3e2c"
      },
      "source": [
        "len(unique_tokens)//500"
      ],
      "execution_count": 14,
      "outputs": [
        {
          "output_type": "execute_result",
          "data": {
            "text/plain": [
              "36"
            ]
          },
          "metadata": {
            "tags": []
          },
          "execution_count": 14
        }
      ]
    },
    {
      "cell_type": "code",
      "metadata": {
        "colab": {
          "base_uri": "https://localhost:8080/",
          "height": 831
        },
        "id": "vuGIbMVaIQfu",
        "outputId": "1b48ee4d-53f8-4a8b-da98-a3e25e8bf796"
      },
      "source": [
        "batch_size = 500\n",
        "number_of_parts = len(unique_tokens)//batch_size\n",
        "\n",
        "for i in range(number_of_parts):\n",
        "  vocab_size_totrain = (i+1) * batch_size\n",
        "\n",
        "  spm.SentencePieceTrainer.train('--input={} --model_prefix=m --vocab_size={}'.\\\n",
        "                                 format(DIR_TXT_FILE, vocab_size_totrain))\n",
        "  sp = spm.SentencePieceProcessor()\n",
        "  sp.load('m.model')\n",
        "  df_train_2['joined_sentencepiece_{}'.format(vocab_size_totrain)] = df_train_2['sentence'].apply(lambda x: ' '.join(sp.encode_as_pieces(x)))"
      ],
      "execution_count": 20,
      "outputs": [
        {
          "output_type": "stream",
          "text": [
            "0\n",
            "1\n",
            "2\n",
            "3\n",
            "4\n",
            "5\n",
            "6\n",
            "7\n",
            "8\n",
            "9\n",
            "10\n",
            "11\n",
            "12\n",
            "13\n",
            "14\n",
            "15\n",
            "16\n",
            "17\n",
            "18\n",
            "19\n",
            "20\n",
            "21\n",
            "22\n"
          ],
          "name": "stdout"
        },
        {
          "output_type": "error",
          "ename": "RuntimeError",
          "evalue": "ignored",
          "traceback": [
            "\u001b[0;31m---------------------------------------------------------------------------\u001b[0m",
            "\u001b[0;31mRuntimeError\u001b[0m                              Traceback (most recent call last)",
            "\u001b[0;32m<ipython-input-20-729b8c93e2fe>\u001b[0m in \u001b[0;36m<module>\u001b[0;34m()\u001b[0m\n\u001b[1;32m      6\u001b[0m   \u001b[0mvocab_size_totrain\u001b[0m \u001b[0;34m=\u001b[0m \u001b[0;34m(\u001b[0m\u001b[0mi\u001b[0m\u001b[0;34m+\u001b[0m\u001b[0;36m1\u001b[0m\u001b[0;34m)\u001b[0m \u001b[0;34m*\u001b[0m \u001b[0mbatch_size\u001b[0m\u001b[0;34m\u001b[0m\u001b[0;34m\u001b[0m\u001b[0m\n\u001b[1;32m      7\u001b[0m \u001b[0;34m\u001b[0m\u001b[0m\n\u001b[0;32m----> 8\u001b[0;31m   \u001b[0mspm\u001b[0m\u001b[0;34m.\u001b[0m\u001b[0mSentencePieceTrainer\u001b[0m\u001b[0;34m.\u001b[0m\u001b[0mtrain\u001b[0m\u001b[0;34m(\u001b[0m\u001b[0;34m'--input={} --model_prefix=m --vocab_size={}'\u001b[0m\u001b[0;34m.\u001b[0m                                 \u001b[0mformat\u001b[0m\u001b[0;34m(\u001b[0m\u001b[0mDIR_TXT_FILE\u001b[0m\u001b[0;34m,\u001b[0m \u001b[0mvocab_size_totrain\u001b[0m\u001b[0;34m)\u001b[0m\u001b[0;34m)\u001b[0m\u001b[0;34m\u001b[0m\u001b[0;34m\u001b[0m\u001b[0m\n\u001b[0m\u001b[1;32m      9\u001b[0m   \u001b[0msp\u001b[0m \u001b[0;34m=\u001b[0m \u001b[0mspm\u001b[0m\u001b[0;34m.\u001b[0m\u001b[0mSentencePieceProcessor\u001b[0m\u001b[0;34m(\u001b[0m\u001b[0;34m)\u001b[0m\u001b[0;34m\u001b[0m\u001b[0;34m\u001b[0m\u001b[0m\n\u001b[1;32m     10\u001b[0m   \u001b[0msp\u001b[0m\u001b[0;34m.\u001b[0m\u001b[0mload\u001b[0m\u001b[0;34m(\u001b[0m\u001b[0;34m'm.model'\u001b[0m\u001b[0;34m)\u001b[0m\u001b[0;34m\u001b[0m\u001b[0;34m\u001b[0m\u001b[0m\n",
            "\u001b[0;32m/usr/local/lib/python3.6/dist-packages/sentencepiece/__init__.py\u001b[0m in \u001b[0;36mTrain\u001b[0;34m(arg, **kwargs)\u001b[0m\n\u001b[1;32m    405\u001b[0m       \u001b[0;34m\"\"\"Train Sentencepiece model. Accept both kwargs and legacy string arg.\"\"\"\u001b[0m\u001b[0;34m\u001b[0m\u001b[0;34m\u001b[0m\u001b[0m\n\u001b[1;32m    406\u001b[0m       \u001b[0;32mif\u001b[0m \u001b[0marg\u001b[0m \u001b[0;32mis\u001b[0m \u001b[0;32mnot\u001b[0m \u001b[0;32mNone\u001b[0m \u001b[0;32mand\u001b[0m \u001b[0mtype\u001b[0m\u001b[0;34m(\u001b[0m\u001b[0marg\u001b[0m\u001b[0;34m)\u001b[0m \u001b[0;32mis\u001b[0m \u001b[0mstr\u001b[0m\u001b[0;34m:\u001b[0m\u001b[0;34m\u001b[0m\u001b[0;34m\u001b[0m\u001b[0m\n\u001b[0;32m--> 407\u001b[0;31m         \u001b[0;32mreturn\u001b[0m \u001b[0mSentencePieceTrainer\u001b[0m\u001b[0;34m.\u001b[0m\u001b[0m_TrainFromString\u001b[0m\u001b[0;34m(\u001b[0m\u001b[0marg\u001b[0m\u001b[0;34m)\u001b[0m\u001b[0;34m\u001b[0m\u001b[0;34m\u001b[0m\u001b[0m\n\u001b[0m\u001b[1;32m    408\u001b[0m \u001b[0;34m\u001b[0m\u001b[0m\n\u001b[1;32m    409\u001b[0m       \u001b[0;32mdef\u001b[0m \u001b[0m_encode\u001b[0m\u001b[0;34m(\u001b[0m\u001b[0mvalue\u001b[0m\u001b[0;34m)\u001b[0m\u001b[0;34m:\u001b[0m\u001b[0;34m\u001b[0m\u001b[0;34m\u001b[0m\u001b[0m\n",
            "\u001b[0;32m/usr/local/lib/python3.6/dist-packages/sentencepiece/__init__.py\u001b[0m in \u001b[0;36m_TrainFromString\u001b[0;34m(arg)\u001b[0m\n\u001b[1;32m    383\u001b[0m     \u001b[0;34m@\u001b[0m\u001b[0mstaticmethod\u001b[0m\u001b[0;34m\u001b[0m\u001b[0;34m\u001b[0m\u001b[0m\n\u001b[1;32m    384\u001b[0m     \u001b[0;32mdef\u001b[0m \u001b[0m_TrainFromString\u001b[0m\u001b[0;34m(\u001b[0m\u001b[0marg\u001b[0m\u001b[0;34m)\u001b[0m\u001b[0;34m:\u001b[0m\u001b[0;34m\u001b[0m\u001b[0;34m\u001b[0m\u001b[0m\n\u001b[0;32m--> 385\u001b[0;31m         \u001b[0;32mreturn\u001b[0m \u001b[0m_sentencepiece\u001b[0m\u001b[0;34m.\u001b[0m\u001b[0mSentencePieceTrainer__TrainFromString\u001b[0m\u001b[0;34m(\u001b[0m\u001b[0marg\u001b[0m\u001b[0;34m)\u001b[0m\u001b[0;34m\u001b[0m\u001b[0;34m\u001b[0m\u001b[0m\n\u001b[0m\u001b[1;32m    386\u001b[0m \u001b[0;34m\u001b[0m\u001b[0m\n\u001b[1;32m    387\u001b[0m     \u001b[0;34m@\u001b[0m\u001b[0mstaticmethod\u001b[0m\u001b[0;34m\u001b[0m\u001b[0;34m\u001b[0m\u001b[0m\n",
            "\u001b[0;31mRuntimeError\u001b[0m: Internal: /sentencepiece/python/bundled/sentencepiece/src/trainer_interface.cc(580) [(trainer_spec_.vocab_size()) == (model_proto->pieces_size())] Vocabulary size too high (11500). Please set it to a value <= 11107."
          ]
        }
      ]
    },
    {
      "cell_type": "code",
      "metadata": {
        "colab": {
          "base_uri": "https://localhost:8080/",
          "height": 773
        },
        "id": "-0lw29IaL0RX",
        "outputId": "39ab877c-7bf4-40f0-d40d-adce222d7a4b"
      },
      "source": [
        "df_train_2"
      ],
      "execution_count": 21,
      "outputs": [
        {
          "output_type": "execute_result",
          "data": {
            "text/html": [
              "<div>\n",
              "<style scoped>\n",
              "    .dataframe tbody tr th:only-of-type {\n",
              "        vertical-align: middle;\n",
              "    }\n",
              "\n",
              "    .dataframe tbody tr th {\n",
              "        vertical-align: top;\n",
              "    }\n",
              "\n",
              "    .dataframe thead th {\n",
              "        text-align: right;\n",
              "    }\n",
              "</style>\n",
              "<table border=\"1\" class=\"dataframe\">\n",
              "  <thead>\n",
              "    <tr style=\"text-align: right;\">\n",
              "      <th></th>\n",
              "      <th>sentence</th>\n",
              "      <th>santiment</th>\n",
              "      <th>joined_sentencepiece_500</th>\n",
              "      <th>joined_sentencepiece_1000</th>\n",
              "      <th>joined_sentencepiece_1500</th>\n",
              "      <th>joined_sentencepiece_2000</th>\n",
              "      <th>joined_sentencepiece_2500</th>\n",
              "      <th>joined_sentencepiece_3000</th>\n",
              "      <th>joined_sentencepiece_3500</th>\n",
              "      <th>joined_sentencepiece_4000</th>\n",
              "      <th>joined_sentencepiece_4500</th>\n",
              "      <th>joined_sentencepiece_5000</th>\n",
              "      <th>joined_sentencepiece_5500</th>\n",
              "      <th>joined_sentencepiece_6000</th>\n",
              "      <th>joined_sentencepiece_6500</th>\n",
              "      <th>joined_sentencepiece_7000</th>\n",
              "      <th>joined_sentencepiece_7500</th>\n",
              "      <th>joined_sentencepiece_8000</th>\n",
              "      <th>joined_sentencepiece_8500</th>\n",
              "      <th>joined_sentencepiece_9000</th>\n",
              "      <th>joined_sentencepiece_9500</th>\n",
              "      <th>joined_sentencepiece_10000</th>\n",
              "      <th>joined_sentencepiece_10500</th>\n",
              "      <th>joined_sentencepiece_11000</th>\n",
              "    </tr>\n",
              "  </thead>\n",
              "  <tbody>\n",
              "    <tr>\n",
              "      <th>0</th>\n",
              "      <td>The Rock is destined to be the 21st Century 's...</td>\n",
              "      <td>positive</td>\n",
              "      <td>▁The ▁R o ck ▁is ▁de s t in ed ▁to ▁be ▁the ▁ ...</td>\n",
              "      <td>▁The ▁Ro ck ▁is ▁de s t in ed ▁to ▁be ▁the ▁ 2...</td>\n",
              "      <td>▁The ▁Ro ck ▁is ▁de s t in ed ▁to ▁be ▁the ▁ 2...</td>\n",
              "      <td>▁The ▁Rock ▁is ▁destin ed ▁to ▁be ▁the ▁2 1 s ...</td>\n",
              "      <td>▁The ▁Rock ▁is ▁destin ed ▁to ▁be ▁the ▁2 1 s ...</td>\n",
              "      <td>▁The ▁Rock ▁is ▁destin ed ▁to ▁be ▁the ▁2 1 s ...</td>\n",
              "      <td>▁The ▁Rock ▁is ▁destin ed ▁to ▁be ▁the ▁21 s t...</td>\n",
              "      <td>▁The ▁Rock ▁is ▁destin ed ▁to ▁be ▁the ▁21 s t...</td>\n",
              "      <td>▁The ▁Rock ▁is ▁destin ed ▁to ▁be ▁the ▁21 s t...</td>\n",
              "      <td>▁The ▁Rock ▁is ▁destin ed ▁to ▁be ▁the ▁21 s t...</td>\n",
              "      <td>▁The ▁Rock ▁is ▁destin ed ▁to ▁be ▁the ▁21 s t...</td>\n",
              "      <td>▁The ▁Rock ▁is ▁destin ed ▁to ▁be ▁the ▁21 s t...</td>\n",
              "      <td>▁The ▁Rock ▁is ▁destin ed ▁to ▁be ▁the ▁21 s t...</td>\n",
              "      <td>▁The ▁Rock ▁is ▁destin ed ▁to ▁be ▁the ▁21 s t...</td>\n",
              "      <td>▁The ▁Rock ▁is ▁destin ed ▁to ▁be ▁the ▁21 s t...</td>\n",
              "      <td>▁The ▁Rock ▁is ▁destin ed ▁to ▁be ▁the ▁21 s t...</td>\n",
              "      <td>▁The ▁Rock ▁is ▁destin ed ▁to ▁be ▁the ▁21 s t...</td>\n",
              "      <td>▁The ▁Rock ▁is ▁destin ed ▁to ▁be ▁the ▁21 s t...</td>\n",
              "      <td>▁The ▁Rock ▁is ▁destin ed ▁to ▁be ▁the ▁21 s t...</td>\n",
              "      <td>▁The ▁Rock ▁is ▁destin ed ▁to ▁be ▁the ▁21 s t...</td>\n",
              "      <td>▁The ▁Rock ▁is ▁destin ed ▁to ▁be ▁the ▁21 s t...</td>\n",
              "      <td>▁The ▁Rock ▁is ▁destin ed ▁to ▁be ▁the ▁21 s t...</td>\n",
              "    </tr>\n",
              "    <tr>\n",
              "      <th>1</th>\n",
              "      <td>The gorgeously elaborate continuation of `` Th...</td>\n",
              "      <td>very_positive</td>\n",
              "      <td>▁The ▁g or ge ous ly ▁ el ab or ate ▁con t in ...</td>\n",
              "      <td>▁The ▁gorgeous ly ▁ el ab or ate ▁con t in u a...</td>\n",
              "      <td>▁The ▁gorgeous ly ▁ e laborat e ▁continu ation...</td>\n",
              "      <td>▁The ▁gorgeous ly ▁ e laborat e ▁continu ation...</td>\n",
              "      <td>▁The ▁gorgeous ly ▁ e laborat e ▁continu ation...</td>\n",
              "      <td>▁The ▁gorgeous ly ▁ e laborat e ▁continu ation...</td>\n",
              "      <td>▁The ▁gorgeous ly ▁ e laborat e ▁continu ation...</td>\n",
              "      <td>▁The ▁gorgeous ly ▁ e laborat e ▁continu ation...</td>\n",
              "      <td>▁The ▁gorgeous ly ▁ e laborat e ▁continu ation...</td>\n",
              "      <td>▁The ▁gorgeous ly ▁ e laborat e ▁continu ation...</td>\n",
              "      <td>▁The ▁gorgeous ly ▁ e laborat e ▁continu ation...</td>\n",
              "      <td>▁The ▁gorgeous ly ▁ e laborat e ▁continu ation...</td>\n",
              "      <td>▁The ▁gorgeous ly ▁ e laborat e ▁continu ation...</td>\n",
              "      <td>▁The ▁gorgeous ly ▁ e laborat e ▁continu ation...</td>\n",
              "      <td>▁The ▁gorgeous ly ▁ e laborat e ▁continu ation...</td>\n",
              "      <td>▁The ▁gorgeous ly ▁ e laborat e ▁continu ation...</td>\n",
              "      <td>▁The ▁gorgeous ly ▁ e laborat e ▁continu ation...</td>\n",
              "      <td>▁The ▁gorgeous ly ▁ e laborat e ▁continu ation...</td>\n",
              "      <td>▁The ▁gorgeous ly ▁ e laborat e ▁continu ation...</td>\n",
              "      <td>▁The ▁gorgeous ly ▁ e laborat e ▁continu ation...</td>\n",
              "      <td>▁The ▁gorgeous ly ▁ e laborat e ▁continu ation...</td>\n",
              "      <td>▁The ▁gorgeous ly ▁ e laborat e ▁continu ation...</td>\n",
              "    </tr>\n",
              "    <tr>\n",
              "      <th>2</th>\n",
              "      <td>Singer/composer Bryan Adams contributes a slew...</td>\n",
              "      <td>positive</td>\n",
              "      <td>▁S ing er / com p o s er ▁B ry an ▁A d am s ▁c...</td>\n",
              "      <td>▁S ing er / com p o s er ▁Br y an ▁A d am s ▁c...</td>\n",
              "      <td>▁S ing er / com p o s er ▁Br y an ▁A d am s ▁c...</td>\n",
              "      <td>▁S ing er / com p o s er ▁Br y an ▁Adam s ▁con...</td>\n",
              "      <td>▁S ing er / com p o s er ▁Br y an ▁Adam s ▁con...</td>\n",
              "      <td>▁S ing er / com p o s er ▁Br y an ▁Adam s ▁con...</td>\n",
              "      <td>▁S ing er / com p o s er ▁Br y an ▁Adam s ▁con...</td>\n",
              "      <td>▁S ing er / com p o s er ▁Br y an ▁Adam s ▁con...</td>\n",
              "      <td>▁S ing er / com p o s er ▁Br y an ▁Adam s ▁con...</td>\n",
              "      <td>▁S ing er / com p o s er ▁Br y an ▁Adam s ▁con...</td>\n",
              "      <td>▁S ing er / com p o s er ▁Br y an ▁Adam s ▁con...</td>\n",
              "      <td>▁S ing er / com p o s er ▁Br y an ▁Adam s ▁con...</td>\n",
              "      <td>▁S ing er / com p o s er ▁Br y an ▁Adam s ▁con...</td>\n",
              "      <td>▁S ing er / com p o s er ▁Br y an ▁Adam s ▁con...</td>\n",
              "      <td>▁S ing er / com p o s er ▁Br y an ▁Adam s ▁con...</td>\n",
              "      <td>▁S ing er / com p o s er ▁Br y an ▁Adam s ▁con...</td>\n",
              "      <td>▁S ing er / compos er ▁Br y an ▁Adam s ▁contri...</td>\n",
              "      <td>▁S ing er / compos er ▁Br yan ▁Adam s ▁contrib...</td>\n",
              "      <td>▁S ing er / compos er ▁Br yan ▁Adam s ▁contrib...</td>\n",
              "      <td>▁S ing er / compos er ▁Br yan ▁Adam s ▁contrib...</td>\n",
              "      <td>▁S ing er / com po s er ▁Br yan ▁Adam s ▁contr...</td>\n",
              "      <td>▁S ing er / com po s er ▁Br yan ▁Adam s ▁contr...</td>\n",
              "    </tr>\n",
              "    <tr>\n",
              "      <th>3</th>\n",
              "      <td>You 'd think by now America would have had eno...</td>\n",
              "      <td>neutral</td>\n",
              "      <td>▁You ▁' d ▁think ▁by ▁no w ▁A mer ic a ▁would ...</td>\n",
              "      <td>▁You ▁' d ▁think ▁by ▁no w ▁A mer ic a ▁would ...</td>\n",
              "      <td>▁You ▁' d ▁think ▁by ▁now ▁America ▁would ▁ ha...</td>\n",
              "      <td>▁You ▁' d ▁think ▁by ▁now ▁America ▁would ▁ ha...</td>\n",
              "      <td>▁You ▁' d ▁think ▁by ▁now ▁America ▁would ▁ ha...</td>\n",
              "      <td>▁You ▁' d ▁think ▁by ▁now ▁America ▁would ▁ ha...</td>\n",
              "      <td>▁You ▁' d ▁think ▁by ▁now ▁America ▁would ▁ ha...</td>\n",
              "      <td>▁You ▁' d ▁think ▁by ▁now ▁America ▁would ▁ ha...</td>\n",
              "      <td>▁You ▁' d ▁think ▁by ▁now ▁America ▁would ▁ ha...</td>\n",
              "      <td>▁You ▁' d ▁think ▁by ▁now ▁America ▁would ▁ ha...</td>\n",
              "      <td>▁You ▁' d ▁think ▁by ▁now ▁America ▁would ▁ ha...</td>\n",
              "      <td>▁You ▁' d ▁think ▁by ▁now ▁America ▁would ▁ ha...</td>\n",
              "      <td>▁You ▁' d ▁think ▁by ▁now ▁America ▁would ▁ ha...</td>\n",
              "      <td>▁You ▁' d ▁think ▁by ▁now ▁America ▁would ▁ ha...</td>\n",
              "      <td>▁You ▁' d ▁think ▁by ▁now ▁America ▁would ▁ ha...</td>\n",
              "      <td>▁You ▁' d ▁think ▁by ▁now ▁America ▁would ▁ ha...</td>\n",
              "      <td>▁You ▁' d ▁think ▁by ▁now ▁America ▁would ▁ ha...</td>\n",
              "      <td>▁You ▁' d ▁think ▁by ▁now ▁America ▁would ▁ ha...</td>\n",
              "      <td>▁You ▁' d ▁think ▁by ▁now ▁America ▁would ▁ ha...</td>\n",
              "      <td>▁You ▁' d ▁think ▁by ▁now ▁America ▁would ▁ ha...</td>\n",
              "      <td>▁You ▁' d ▁think ▁by ▁now ▁America ▁would ▁ ha...</td>\n",
              "      <td>▁You ▁' d ▁think ▁by ▁now ▁America ▁would ▁ ha...</td>\n",
              "    </tr>\n",
              "    <tr>\n",
              "      <th>4</th>\n",
              "      <td>Yet the act is still charming here .</td>\n",
              "      <td>positive</td>\n",
              "      <td>▁ Y e t ▁the ▁ act ▁is ▁still ▁charm ing ▁her ...</td>\n",
              "      <td>▁ Y e t ▁the ▁ act ▁is ▁still ▁charm ing ▁here ▁.</td>\n",
              "      <td>▁Ye t ▁the ▁act ▁is ▁still ▁charm ing ▁here ▁.</td>\n",
              "      <td>▁Ye t ▁the ▁act ▁is ▁still ▁charm ing ▁here ▁.</td>\n",
              "      <td>▁Ye t ▁the ▁act ▁is ▁still ▁charm ing ▁here ▁.</td>\n",
              "      <td>▁Ye t ▁the ▁act ▁is ▁still ▁charm ing ▁here ▁.</td>\n",
              "      <td>▁Ye t ▁the ▁act ▁is ▁still ▁charm ing ▁here ▁.</td>\n",
              "      <td>▁Ye t ▁the ▁act ▁is ▁still ▁charm ing ▁here ▁.</td>\n",
              "      <td>▁Ye t ▁the ▁act ▁is ▁still ▁charm ing ▁here ▁.</td>\n",
              "      <td>▁Ye t ▁the ▁act ▁is ▁still ▁charm ing ▁here ▁.</td>\n",
              "      <td>▁Ye t ▁the ▁act ▁is ▁still ▁charm ing ▁here ▁.</td>\n",
              "      <td>▁Ye t ▁the ▁act ▁is ▁still ▁charm ing ▁here ▁.</td>\n",
              "      <td>▁Ye t ▁the ▁act ▁is ▁still ▁charm ing ▁here ▁.</td>\n",
              "      <td>▁Ye t ▁the ▁act ▁is ▁still ▁charm ing ▁here ▁.</td>\n",
              "      <td>▁Ye t ▁the ▁act ▁is ▁still ▁charm ing ▁here ▁.</td>\n",
              "      <td>▁Ye t ▁the ▁act ▁is ▁still ▁charm ing ▁here ▁.</td>\n",
              "      <td>▁Ye t ▁the ▁act ▁is ▁still ▁charm ing ▁here ▁.</td>\n",
              "      <td>▁Ye t ▁the ▁act ▁is ▁still ▁charm ing ▁here ▁.</td>\n",
              "      <td>▁Ye t ▁the ▁act ▁is ▁still ▁charm ing ▁here ▁.</td>\n",
              "      <td>▁Ye t ▁the ▁act ▁is ▁still ▁charm ing ▁here ▁.</td>\n",
              "      <td>▁Ye t ▁the ▁act ▁is ▁still ▁charm ing ▁here ▁.</td>\n",
              "      <td>▁Ye t ▁the ▁act ▁is ▁still ▁charm ing ▁here ▁.</td>\n",
              "    </tr>\n",
              "    <tr>\n",
              "      <th>...</th>\n",
              "      <td>...</td>\n",
              "      <td>...</td>\n",
              "      <td>...</td>\n",
              "      <td>...</td>\n",
              "      <td>...</td>\n",
              "      <td>...</td>\n",
              "      <td>...</td>\n",
              "      <td>...</td>\n",
              "      <td>...</td>\n",
              "      <td>...</td>\n",
              "      <td>...</td>\n",
              "      <td>...</td>\n",
              "      <td>...</td>\n",
              "      <td>...</td>\n",
              "      <td>...</td>\n",
              "      <td>...</td>\n",
              "      <td>...</td>\n",
              "      <td>...</td>\n",
              "      <td>...</td>\n",
              "      <td>...</td>\n",
              "      <td>...</td>\n",
              "      <td>...</td>\n",
              "      <td>...</td>\n",
              "      <td>...</td>\n",
              "    </tr>\n",
              "    <tr>\n",
              "      <th>8539</th>\n",
              "      <td>A real snooze .</td>\n",
              "      <td>very_negative</td>\n",
              "      <td>▁A ▁real ▁ s n oo z e ▁.</td>\n",
              "      <td>▁A ▁real ▁ s n oo z e ▁.</td>\n",
              "      <td>▁A ▁real ▁ s n oo ze ▁.</td>\n",
              "      <td>▁A ▁real ▁ s n oo ze ▁.</td>\n",
              "      <td>▁A ▁real ▁ s n oo ze ▁.</td>\n",
              "      <td>▁A ▁real ▁ s n oo ze ▁.</td>\n",
              "      <td>▁A ▁real ▁ s n oo ze ▁.</td>\n",
              "      <td>▁A ▁real ▁ s n oo ze ▁.</td>\n",
              "      <td>▁A ▁real ▁ s n oo ze ▁.</td>\n",
              "      <td>▁A ▁real ▁snooze ▁.</td>\n",
              "      <td>▁A ▁real ▁snooze ▁.</td>\n",
              "      <td>▁A ▁real ▁snooze ▁.</td>\n",
              "      <td>▁A ▁real ▁snooze ▁.</td>\n",
              "      <td>▁A ▁real ▁snooze ▁.</td>\n",
              "      <td>▁A ▁real ▁snooze ▁.</td>\n",
              "      <td>▁A ▁real ▁snooze ▁.</td>\n",
              "      <td>▁A ▁real ▁snooze ▁.</td>\n",
              "      <td>▁A ▁real ▁snooze ▁.</td>\n",
              "      <td>▁A ▁real ▁snooze ▁.</td>\n",
              "      <td>▁A ▁real ▁snooze ▁.</td>\n",
              "      <td>▁A ▁real ▁snooze ▁.</td>\n",
              "      <td>▁A ▁real ▁snooze ▁.</td>\n",
              "    </tr>\n",
              "    <tr>\n",
              "      <th>8540</th>\n",
              "      <td>No surprises .</td>\n",
              "      <td>negative</td>\n",
              "      <td>▁N o ▁ s ur p ri s es ▁.</td>\n",
              "      <td>▁No ▁surprise s ▁.</td>\n",
              "      <td>▁No ▁surprise s ▁.</td>\n",
              "      <td>▁No ▁surprise s ▁.</td>\n",
              "      <td>▁No ▁surprise s ▁.</td>\n",
              "      <td>▁No ▁surprise s ▁.</td>\n",
              "      <td>▁No ▁surprise s ▁.</td>\n",
              "      <td>▁No ▁surprise s ▁.</td>\n",
              "      <td>▁No ▁surprise s ▁.</td>\n",
              "      <td>▁No ▁surprise s ▁.</td>\n",
              "      <td>▁No ▁surprise s ▁.</td>\n",
              "      <td>▁No ▁surprise s ▁.</td>\n",
              "      <td>▁No ▁surprise s ▁.</td>\n",
              "      <td>▁No ▁surprise s ▁.</td>\n",
              "      <td>▁No ▁surprise s ▁.</td>\n",
              "      <td>▁No ▁surprise s ▁.</td>\n",
              "      <td>▁No ▁surprise s ▁.</td>\n",
              "      <td>▁No ▁surprise s ▁.</td>\n",
              "      <td>▁No ▁surprise s ▁.</td>\n",
              "      <td>▁No ▁surprise s ▁.</td>\n",
              "      <td>▁No ▁surprise s ▁.</td>\n",
              "      <td>▁No ▁surprise s ▁.</td>\n",
              "    </tr>\n",
              "    <tr>\n",
              "      <th>8541</th>\n",
              "      <td>We 've seen the hippie-turned-yuppie plot befo...</td>\n",
              "      <td>positive</td>\n",
              "      <td>▁W e ▁' ve ▁see n ▁the ▁ h i pp ie - t ur n ed...</td>\n",
              "      <td>▁We ▁' ve ▁see n ▁the ▁ h i pp ie - t ur n ed ...</td>\n",
              "      <td>▁We ▁' ve ▁see n ▁the ▁hip p ie - t ur n ed - ...</td>\n",
              "      <td>▁We ▁' ve ▁see n ▁the ▁hip p ie - t ur n ed - ...</td>\n",
              "      <td>▁We ▁' ve ▁see n ▁the ▁hip p ie - t ur ned - y...</td>\n",
              "      <td>▁We ▁' ve ▁see n ▁the ▁hip p ie - t ur ned - y...</td>\n",
              "      <td>▁We ▁' ve ▁see n ▁the ▁hip p ie - t ur ned - y...</td>\n",
              "      <td>▁We ▁' ve ▁see n ▁the ▁hip p ie - turned - y u...</td>\n",
              "      <td>▁We ▁' ve ▁see n ▁the ▁hip p ie - turned - y u...</td>\n",
              "      <td>▁We ▁' ve ▁see n ▁the ▁hippie - turned - y up ...</td>\n",
              "      <td>▁We ▁' ve ▁see n ▁the ▁hippie - turned - y up ...</td>\n",
              "      <td>▁We ▁' ve ▁see n ▁the ▁hippie - turned - y up ...</td>\n",
              "      <td>▁We ▁' ve ▁see n ▁the ▁hippie - turned - y up ...</td>\n",
              "      <td>▁We ▁' ve ▁see n ▁the ▁hippie - turned - y up ...</td>\n",
              "      <td>▁We ▁' ve ▁see n ▁the ▁hippie - turned - y up ...</td>\n",
              "      <td>▁We ▁' ve ▁see n ▁the ▁hippie - turned - y up ...</td>\n",
              "      <td>▁We ▁' ve ▁see n ▁the ▁hippie - turned - y up ...</td>\n",
              "      <td>▁We ▁' ve ▁see n ▁the ▁hippie - turned - y upp...</td>\n",
              "      <td>▁We ▁' ve ▁see n ▁the ▁hippie - turned - y upp...</td>\n",
              "      <td>▁We ▁' ve ▁see n ▁the ▁hippie - turned - y upp...</td>\n",
              "      <td>▁We ▁' ve ▁see n ▁the ▁hippie - turned - y upp...</td>\n",
              "      <td>▁We ▁' ve ▁see n ▁the ▁hippie - turned - y upp...</td>\n",
              "    </tr>\n",
              "    <tr>\n",
              "      <th>8542</th>\n",
              "      <td>Her fans walked out muttering words like `` ho...</td>\n",
              "      <td>very_negative</td>\n",
              "      <td>▁H er ▁fa n s ▁w al k ed ▁out ▁ m ut ter ing ▁...</td>\n",
              "      <td>▁H er ▁fan s ▁w al k ed ▁out ▁ m ut ter ing ▁w...</td>\n",
              "      <td>▁H er ▁fan s ▁walk ed ▁out ▁ m ut ter ing ▁wor...</td>\n",
              "      <td>▁Her ▁fan s ▁walk ed ▁out ▁ m ut ter ing ▁word...</td>\n",
              "      <td>▁Her ▁fan s ▁walk ed ▁out ▁ m ut ter ing ▁word...</td>\n",
              "      <td>▁Her ▁fan s ▁walk ed ▁out ▁ m ut ter ing ▁word...</td>\n",
              "      <td>▁Her ▁fan s ▁walk ed ▁out ▁mut ter ing ▁word s...</td>\n",
              "      <td>▁Her ▁fan s ▁walk ed ▁out ▁mut ter ing ▁word s...</td>\n",
              "      <td>▁Her ▁fan s ▁walk ed ▁out ▁mut ter ing ▁word s...</td>\n",
              "      <td>▁Her ▁fan s ▁walk ed ▁out ▁mut ter ing ▁word s...</td>\n",
              "      <td>▁Her ▁fan s ▁walk ed ▁out ▁mut ter ing ▁word s...</td>\n",
              "      <td>▁Her ▁fan s ▁walk ed ▁out ▁mut ter ing ▁word s...</td>\n",
              "      <td>▁Her ▁fan s ▁walk ed ▁out ▁mut ter ing ▁word s...</td>\n",
              "      <td>▁Her ▁fan s ▁walk ed ▁out ▁mut ter ing ▁word s...</td>\n",
              "      <td>▁Her ▁fan s ▁walk ed ▁out ▁mut ter ing ▁word s...</td>\n",
              "      <td>▁Her ▁fan s ▁walk ed ▁out ▁mut ter ing ▁word s...</td>\n",
              "      <td>▁Her ▁fan s ▁walk ed ▁out ▁mut ter ing ▁word s...</td>\n",
              "      <td>▁Her ▁fan s ▁walk ed ▁out ▁mut tering ▁word s ...</td>\n",
              "      <td>▁Her ▁fan s ▁walk ed ▁out ▁mut tering ▁word s ...</td>\n",
              "      <td>▁Her ▁fan s ▁walk ed ▁out ▁mut tering ▁word s ...</td>\n",
              "      <td>▁Her ▁fan s ▁walk ed ▁out ▁mut tering ▁word s ...</td>\n",
              "      <td>▁Her ▁fan s ▁walk ed ▁out ▁mut tering ▁word s ...</td>\n",
              "    </tr>\n",
              "    <tr>\n",
              "      <th>8543</th>\n",
              "      <td>In this case zero .</td>\n",
              "      <td>negative</td>\n",
              "      <td>▁In ▁thi s ▁ca se ▁ z er o ▁.</td>\n",
              "      <td>▁In ▁thi s ▁ca se ▁ z e ro ▁.</td>\n",
              "      <td>▁In ▁thi s ▁ca se ▁ ze ro ▁.</td>\n",
              "      <td>▁In ▁thi s ▁case ▁ ze ro ▁.</td>\n",
              "      <td>▁In ▁thi s ▁case ▁ ze ro ▁.</td>\n",
              "      <td>▁In ▁thi s ▁case ▁ ze ro ▁.</td>\n",
              "      <td>▁In ▁thi s ▁case ▁zero ▁.</td>\n",
              "      <td>▁In ▁thi s ▁case ▁zero ▁.</td>\n",
              "      <td>▁In ▁thi s ▁case ▁zero ▁.</td>\n",
              "      <td>▁In ▁thi s ▁case ▁zero ▁.</td>\n",
              "      <td>▁In ▁thi s ▁case ▁zero ▁.</td>\n",
              "      <td>▁In ▁thi s ▁case ▁zero ▁.</td>\n",
              "      <td>▁In ▁thi s ▁case ▁zero ▁.</td>\n",
              "      <td>▁In ▁thi s ▁case ▁zero ▁.</td>\n",
              "      <td>▁In ▁thi s ▁case ▁zero ▁.</td>\n",
              "      <td>▁In ▁thi s ▁case ▁zero ▁.</td>\n",
              "      <td>▁In ▁thi s ▁case ▁zero ▁.</td>\n",
              "      <td>▁In ▁thi s ▁case ▁zero ▁.</td>\n",
              "      <td>▁In ▁thi s ▁case ▁zero ▁.</td>\n",
              "      <td>▁In ▁thi s ▁case ▁zero ▁.</td>\n",
              "      <td>▁In ▁thi s ▁case ▁zero ▁.</td>\n",
              "      <td>▁In ▁thi s ▁case ▁zero ▁.</td>\n",
              "    </tr>\n",
              "  </tbody>\n",
              "</table>\n",
              "<p>8544 rows × 24 columns</p>\n",
              "</div>"
            ],
            "text/plain": [
              "                                               sentence  ...                         joined_sentencepiece_11000\n",
              "0     The Rock is destined to be the 21st Century 's...  ...  ▁The ▁Rock ▁is ▁destin ed ▁to ▁be ▁the ▁21 s t...\n",
              "1     The gorgeously elaborate continuation of `` Th...  ...  ▁The ▁gorgeous ly ▁ e laborat e ▁continu ation...\n",
              "2     Singer/composer Bryan Adams contributes a slew...  ...  ▁S ing er / com po s er ▁Br yan ▁Adam s ▁contr...\n",
              "3     You 'd think by now America would have had eno...  ...  ▁You ▁' d ▁think ▁by ▁now ▁America ▁would ▁ ha...\n",
              "4                  Yet the act is still charming here .  ...     ▁Ye t ▁the ▁act ▁is ▁still ▁charm ing ▁here ▁.\n",
              "...                                                 ...  ...                                                ...\n",
              "8539                                    A real snooze .  ...                                ▁A ▁real ▁snooze ▁.\n",
              "8540                                     No surprises .  ...                                 ▁No ▁surprise s ▁.\n",
              "8541  We 've seen the hippie-turned-yuppie plot befo...  ...  ▁We ▁' ve ▁see n ▁the ▁hippie - turned - y upp...\n",
              "8542  Her fans walked out muttering words like `` ho...  ...  ▁Her ▁fan s ▁walk ed ▁out ▁mut tering ▁word s ...\n",
              "8543                                In this case zero .  ...                          ▁In ▁thi s ▁case ▁zero ▁.\n",
              "\n",
              "[8544 rows x 24 columns]"
            ]
          },
          "metadata": {
            "tags": []
          },
          "execution_count": 21
        }
      ]
    },
    {
      "cell_type": "code",
      "metadata": {
        "colab": {
          "base_uri": "https://localhost:8080/"
        },
        "id": "fQQIQeu8M0Hf",
        "outputId": "37c67549-9c44-4a8f-a6be-c136bd9c88e5"
      },
      "source": [
        "len(set(' '.join(list(df_train_2['joined_sentencepiece_500'])).split()))"
      ],
      "execution_count": 27,
      "outputs": [
        {
          "output_type": "execute_result",
          "data": {
            "text/plain": [
              "540"
            ]
          },
          "metadata": {
            "tags": []
          },
          "execution_count": 27
        }
      ]
    },
    {
      "cell_type": "code",
      "metadata": {
        "colab": {
          "base_uri": "https://localhost:8080/"
        },
        "id": "Gr1sIHRoOkLk",
        "outputId": "3555aef1-e1bc-41a2-9afa-2079d219944c"
      },
      "source": [
        "len(set(' '.join(list(df_train_2['joined_sentencepiece_10000'])).split()))"
      ],
      "execution_count": 30,
      "outputs": [
        {
          "output_type": "execute_result",
          "data": {
            "text/plain": [
              "9853"
            ]
          },
          "metadata": {
            "tags": []
          },
          "execution_count": 30
        }
      ]
    },
    {
      "cell_type": "code",
      "metadata": {
        "id": "7buB8AwlPVhm"
      },
      "source": [
        ""
      ],
      "execution_count": null,
      "outputs": []
    }
  ]
}